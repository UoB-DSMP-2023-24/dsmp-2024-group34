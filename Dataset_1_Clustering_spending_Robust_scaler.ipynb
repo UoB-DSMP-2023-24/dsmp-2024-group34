{
 "cells": [
  {
   "cell_type": "markdown",
   "id": "f7ad613b-3f5c-421a-951b-eb9e9bee9aa8",
   "metadata": {},
   "source": [
    "### Implementing HDBSCAN to cluster spending habits of accounts"
   ]
  },
  {
   "cell_type": "code",
   "execution_count": null,
   "id": "3bb84edf-93c3-4d26-9426-081db0aadf84",
   "metadata": {
    "tags": []
   },
   "outputs": [],
   "source": [
    "import pandas as pd\n",
    "import numpy as np\n",
    "import matplotlib.pyplot as plt\n",
    "from sklearn.cluster import HDBSCAN, DBSCAN\n",
    "import seaborn as sns"
   ]
  },
  {
   "cell_type": "code",
   "execution_count": null,
   "id": "b6456281-00e7-405c-9156-f19767b47812",
   "metadata": {
    "scrolled": false,
    "tags": []
   },
   "outputs": [],
   "source": [
    "spending_data = pd.read_csv('C:/Users/camer/OneDrive/Documents/Data Science MSc/DSMP/Robust_scaler_proportional_spending_by_account.csv')\n",
    "spending_data.head()"
   ]
  },
  {
   "cell_type": "markdown",
   "id": "708c39cd",
   "metadata": {},
   "source": [
    "Splitting the data into features and targets"
   ]
  },
  {
   "cell_type": "code",
   "execution_count": null,
   "id": "a5525254",
   "metadata": {},
   "outputs": [],
   "source": [
    "X = spending_data.drop('Sender account', axis=1, errors='ignore')"
   ]
  },
  {
   "cell_type": "markdown",
   "id": "e6fd667a",
   "metadata": {},
   "source": [
    "#### Performing dimensionality reduction (UMAP, PCA, t-SNE)"
   ]
  },
  {
   "cell_type": "code",
   "execution_count": null,
   "id": "a7acd9ab",
   "metadata": {},
   "outputs": [],
   "source": [
    "import umap\n",
    "import matplotlib.pyplot as plt\n",
    "sns.set(style='white', context='notebook', rc={'figure.figsize':(14,10)})\n",
    "\n",
    "umap_model = umap.UMAP()\n",
    "\n",
    "spending_umap = umap_model.fit_transform(X)\n",
    "print(spending_umap.shape)\n",
    "\n",
    "plt.scatter(\n",
    "    spending_umap[:, 0],\n",
    "    spending_umap[:, 1],\n",
    "        s=5,\n",
    ")\n",
    "\n",
    "plt.gca().set_aspect('equal', 'datalim')\n",
    "plt.title('UMAP projection of the spending data', fontsize=24);"
   ]
  },
  {
   "cell_type": "code",
   "execution_count": null,
   "id": "a9ce7874",
   "metadata": {
    "scrolled": false
   },
   "outputs": [],
   "source": [
    "from sklearn.decomposition import PCA\n",
    "sns.set(style='white', context='notebook', rc={'figure.figsize':(14,10)})\n",
    "pca = PCA()\n",
    "spending_pca = pca.fit_transform(X)\n",
    "\n",
    "plt.scatter(\n",
    "    spending_pca[:, 0],\n",
    "    spending_pca[:, 1],\n",
    "        s=5,\n",
    ")\n",
    "\n",
    "plt.gca().set_aspect('equal', 'datalim')\n",
    "plt.title('PCA projection of the spending data', fontsize=24);"
   ]
  },
  {
   "cell_type": "code",
   "execution_count": null,
   "id": "ff4d3155",
   "metadata": {
    "scrolled": false
   },
   "outputs": [],
   "source": [
    "from sklearn.manifold import TSNE\n",
    "\n",
    "tsne = TSNE()\n",
    "spending_tsne = tsne.fit_transform(X)\n",
    "\n",
    "plt.scatter(\n",
    "    spending_tsne[:, 0],\n",
    "    spending_tsne[:, 1],\n",
    "    s=5,\n",
    ")\n",
    "\n",
    "plt.gca().set_aspect('equal', 'datalim')\n",
    "plt.title('t-SNE projection of the spending data', fontsize=24)\n",
    "plt.show()"
   ]
  },
  {
   "cell_type": "markdown",
   "id": "2a13279d",
   "metadata": {},
   "source": [
    "#### Clustering with HDBSCAN on data after UMAP "
   ]
  },
  {
   "cell_type": "code",
   "execution_count": null,
   "id": "ef8ae7b8",
   "metadata": {
    "scrolled": false
   },
   "outputs": [],
   "source": [
    "from sklearn.metrics import silhouette_score\n",
    "\n",
    "hdb = HDBSCAN(min_samples=1, min_cluster_size=250)\n",
    "\n",
    "cluster_labels = hdb.fit_predict(spending_umap)\n",
    "\n",
    "spending_data['cluster_label'] = cluster_labels\n",
    "\n",
    "plt.scatter(\n",
    "    spending_umap[:, 0],\n",
    "    spending_umap[:, 1],\n",
    "    s=5,\n",
    "    c=cluster_labels,  # Assign colors based on cluster labels using the colormap\n",
    ")\n",
    "\n",
    "plt.gca().set_aspect('equal', 'datalim')\n",
    "plt.title('HDBSCAN Clustering with UMAP Projection', fontsize=24)\n",
    "plt.show()\n",
    "\n",
    "spending_data['cluster_label'].value_counts()\n",
    "\n",
    "silhouette_avg = silhouette_score(spending_umap, cluster_labels)\n",
    "\n",
    "print(\"The average silhouette_score is :\", silhouette_avg)"
   ]
  },
  {
   "cell_type": "code",
   "execution_count": null,
   "id": "71c6708a",
   "metadata": {},
   "outputs": [],
   "source": []
  },
  {
   "cell_type": "code",
   "execution_count": null,
   "id": "2509c512",
   "metadata": {
    "scrolled": true
   },
   "outputs": [],
   "source": []
  },
  {
   "cell_type": "markdown",
   "id": "334183a7",
   "metadata": {},
   "source": [
    "### Implementing DBSCAN"
   ]
  },
  {
   "cell_type": "code",
   "execution_count": null,
   "id": "4497465b",
   "metadata": {},
   "outputs": [],
   "source": [
    "from sklearn.metrics import silhouette_score\n",
    "\n",
    "db = DBSCAN(min_samples=10, eps=1)\n",
    "\n",
    "cluster_labels = db.fit_predict(spending_umap)\n",
    "\n",
    "spending_data['cluster_label'] = cluster_labels\n",
    "\n",
    "plt.scatter(\n",
    "    spending_umap[:, 0],\n",
    "    spending_umap[:, 1],\n",
    "    s=5,\n",
    "    c=cluster_labels,  # Assign colors based on cluster labels using the colormap\n",
    ")\n",
    "\n",
    "for label in np.unique(cluster_labels):\n",
    "    if label == -1:  # Label noise points separately\n",
    "        continue\n",
    "    cluster_center = np.mean(spending_umap[cluster_labels == label], axis=0)\n",
    "    plt.annotate(\n",
    "        f'Cluster {label}',\n",
    "        xy=cluster_center,\n",
    "        xytext=(cluster_center[0], cluster_center[1]),\n",
    "        textcoords=\"offset points\",\n",
    "        ha='center',\n",
    "        va='center',\n",
    "        fontsize=8,\n",
    "        bbox=dict(boxstyle='round,pad=0.3', edgecolor='black', facecolor='white')\n",
    "    )\n",
    "\n",
    "plt.gca().set_aspect('equal', 'datalim')\n",
    "plt.title('DBSCAN Clustering with UMAP Projection', fontsize=24)\n",
    "plt.show()\n",
    "spending_data['cluster_label'].value_counts()\n",
    "\n",
    "\n",
    "silhouette_avg = silhouette_score(spending_umap, cluster_labels)\n",
    "\n",
    "print(\"The average silhouette_score is :\", silhouette_avg)"
   ]
  },
  {
   "cell_type": "markdown",
   "id": "d3415572",
   "metadata": {},
   "source": [
    "#### Plotting accounts within UMAP clusters"
   ]
  },
  {
   "cell_type": "code",
   "execution_count": null,
   "id": "3cbb68bd",
   "metadata": {},
   "outputs": [],
   "source": [
    "cluster_of_interest = 2\n",
    "\n",
    "accounts_in_cluster = spending_data[spending_data['cluster_label'] == cluster_of_interest]\n",
    "sample_accounts = accounts_in_cluster.sample(n=6)\n",
    "\n",
    "sample_accounts.set_index('Sender account', inplace=True)\n",
    "sample_accounts"
   ]
  },
  {
   "cell_type": "code",
   "execution_count": null,
   "id": "73243a25",
   "metadata": {
    "scrolled": false
   },
   "outputs": [],
   "source": [
    "for account_name, account_data in sample_accounts.iterrows():\n",
    "    plt.figure(figsize=(10, 6))\n",
    "    ax = sns.barplot(x=account_data.index[:-1], y=account_data.values[:-1], color='#005a3c')\n",
    "    plt.title(f'Proportions of Spending for Account {account_name} in Cluster {cluster_of_interest}', fontsize=14)\n",
    "    plt.xlabel('Category', fontsize=12)\n",
    "    plt.ylabel('Proportion of Spending z-score', fontsize=12)\n",
    "    plt.xticks(rotation=45, ha='right', fontsize=10)\n",
    "    plt.yticks(fontsize=10)\n",
    "    plt.ylim(-10, 10)\n",
    "    plt.tight_layout()\n",
    "    plt.show()"
   ]
  },
  {
   "cell_type": "markdown",
   "id": "74b04180",
   "metadata": {},
   "source": [
    "Labelling clusters with insights"
   ]
  },
  {
   "cell_type": "code",
   "execution_count": null,
   "id": "60478156",
   "metadata": {},
   "outputs": [],
   "source": [
    "cluster_names = [\n",
    "    'High Coffee Low Clothing Low High-Street',\n",
    "    'High Bar/Pub',\n",
    "    'Low Supermarket High Highstreet High Children',\n",
    "    'Low Supermarket High Highstreet',\n",
    "    'High Clothing High Home',\n",
    "    'High Children',\n",
    "    'High Clothing High Coffeeshop',\n",
    "    'Low Supermarket High Highstreet High Bar/Pub',\n",
    "    'High Clothing High Children Low Bar/Pub',\n",
    "    'Low Supermarket High Highstreet High Coffeshop',\n",
    "    'High Children High Coffeeshop',\n",
    "    'Low Supermarket High Highstreet High Coffeshop High Clothing'\n",
    "]"
   ]
  },
  {
   "cell_type": "code",
   "execution_count": null,
   "id": "3f27ce8e",
   "metadata": {},
   "outputs": [],
   "source": [
    "spending_data['cluster_name'] = spending_data['cluster_label'].apply(lambda x: cluster_names[x])"
   ]
  },
  {
   "cell_type": "code",
   "execution_count": null,
   "id": "5d2d844c",
   "metadata": {},
   "outputs": [],
   "source": [
    "spending_data"
   ]
  },
  {
   "cell_type": "code",
   "execution_count": null,
   "id": "9392783f",
   "metadata": {
    "scrolled": false
   },
   "outputs": [],
   "source": [
    "for account_name, account_data in sample_accounts.iterrows():\n",
    "    plt.figure(figsize=(8, 4))\n",
    "    plt.bar(account_data.index[:-1], account_data.values[:-1], color='skyblue')\n",
    "    plt.title(f'Proportions of Spending for Account {account_name} in Cluster {cluster_of_interest}')\n",
    "    plt.xlabel('Category')\n",
    "    plt.ylabel('Proportion of Spending')\n",
    "    plt.xticks(rotation=45)\n",
    "    plt.ylim(-0.2, 0.2)\n",
    "    plt.tight_layout()\n",
    "    plt.show()"
   ]
  },
  {
   "cell_type": "code",
   "execution_count": null,
   "id": "47f22cb9",
   "metadata": {},
   "outputs": [],
   "source": [
    "spending_data['Alcohol'].min()"
   ]
  },
  {
   "cell_type": "code",
   "execution_count": null,
   "id": "2ea042d4",
   "metadata": {},
   "outputs": [],
   "source": [
    "spending_data['cluster_label'].value_counts()"
   ]
  },
  {
   "cell_type": "code",
   "execution_count": null,
   "id": "3e2e53d4",
   "metadata": {},
   "outputs": [],
   "source": []
  },
  {
   "cell_type": "markdown",
   "id": "6d439558",
   "metadata": {},
   "source": [
    "#### Clustering without UMAP"
   ]
  },
  {
   "cell_type": "code",
   "execution_count": null,
   "id": "b21564ca-7f99-40a4-9d23-f49b70dde759",
   "metadata": {
    "tags": []
   },
   "outputs": [],
   "source": [
    "hdb = HDBSCAN(min_samples=1, min_cluster_size=250)\n",
    "\n",
    "cluster_labels = hdb.fit_predict(X)\n",
    "\n",
    "spending_data['cluster_label'] = cluster_labels"
   ]
  },
  {
   "cell_type": "code",
   "execution_count": null,
   "id": "4d6d5e9a-84f8-43ac-b17b-8142488defc3",
   "metadata": {
    "tags": []
   },
   "outputs": [],
   "source": [
    "spending_data['cluster_label'].unique()"
   ]
  },
  {
   "cell_type": "markdown",
   "id": "7ddb0907-11f6-4bf9-b2ce-f725df72d6a7",
   "metadata": {},
   "source": [
    "Plotting the proportions for some of the accounts in a cluster"
   ]
  },
  {
   "cell_type": "code",
   "execution_count": null,
   "id": "7a119533-35f3-4449-8d58-a21cbc4301ee",
   "metadata": {
    "tags": []
   },
   "outputs": [],
   "source": [
    "cluster_of_interest = 1\n",
    "\n",
    "accounts_in_cluster = spending_data[spending_data['cluster_label'] == cluster_of_interest]\n",
    "sample_accounts = accounts_in_cluster.sample(n=3)\n"
   ]
  },
  {
   "cell_type": "code",
   "execution_count": null,
   "id": "b216fb4b-688b-4239-8362-585aadc4e8df",
   "metadata": {
    "tags": []
   },
   "outputs": [],
   "source": [
    "sample_accounts.set_index('Sender account', inplace=True)\n",
    "sample_accounts"
   ]
  },
  {
   "cell_type": "code",
   "execution_count": null,
   "id": "bf4055f1",
   "metadata": {
    "scrolled": false
   },
   "outputs": [],
   "source": []
  },
  {
   "cell_type": "code",
   "execution_count": null,
   "id": "8adf65fb-4a6c-44c4-94a4-7145499f104d",
   "metadata": {
    "tags": []
   },
   "outputs": [],
   "source": [
    "for account_name, account_data in sample_accounts.iterrows():\n",
    "    plt.figure(figsize=(8, 4))\n",
    "    plt.bar(account_data.index[:-1], account_data.values[:-1], color='skyblue')\n",
    "    plt.title(f'Proportions of Spending for Account {account_name} in Cluster {cluster_of_interest}')\n",
    "    plt.xlabel('Category')\n",
    "    plt.ylabel('Proportion of Spending')\n",
    "    plt.xticks(rotation=45)\n",
    "    plt.ylim(-0.2, 0.2)\n",
    "    plt.tight_layout()\n",
    "    plt.show()"
   ]
  },
  {
   "cell_type": "code",
   "execution_count": null,
   "id": "9fb4d290-2a10-468c-b264-2e6bdb99e255",
   "metadata": {},
   "outputs": [],
   "source": [
    "import seaborn as sns\n",
    "import matplotlib.pyplot as plt"
   ]
  },
  {
   "cell_type": "code",
   "execution_count": null,
   "id": "8c7e7cec-3201-4e6c-9f19-165e20361476",
   "metadata": {},
   "outputs": [],
   "source": [
    "for account_name, account_data in sample_accounts.iterrows():\n",
    "    plt.figure(figsize=(10, 4))\n",
    "    ax = sns.barplot(x=account_data.index[:-1], y=account_data.values[:-1], color='#005a3c')\n",
    "    plt.title(f'Proportions of Spending for Account {account_name} in Cluster {cluster_of_interest}', fontsize=14)\n",
    "    plt.xlabel('Category', fontsize=12)\n",
    "    plt.ylabel('Proportion of Spending', fontsize=12)\n",
    "    plt.xticks(rotation=45, ha='right', fontsize=10)\n",
    "    plt.yticks(fontsize=10)\n",
    "    plt.ylim(-0.2, 0.2)  # Adjust y-axis limits if needed\n",
    "    plt.tight_layout()\n",
    "    plt.show()"
   ]
  },
  {
   "cell_type": "code",
   "execution_count": null,
   "id": "7c70e761-26b3-441c-bf13-dc0cc64103ff",
   "metadata": {},
   "outputs": [],
   "source": [
    "spending_data['cluster_label'].value_counts()"
   ]
  },
  {
   "cell_type": "code",
   "execution_count": null,
   "id": "6314e491-e54d-47ba-8b54-184b68fcf9cc",
   "metadata": {},
   "outputs": [],
   "source": []
  }
 ],
 "metadata": {
  "kernelspec": {
   "display_name": "Python 3 (ipykernel)",
   "language": "python",
   "name": "python3"
  },
  "language_info": {
   "codemirror_mode": {
    "name": "ipython",
    "version": 3
   },
   "file_extension": ".py",
   "mimetype": "text/x-python",
   "name": "python",
   "nbconvert_exporter": "python",
   "pygments_lexer": "ipython3",
   "version": "3.11.5"
  }
 },
 "nbformat": 4,
 "nbformat_minor": 5
}
