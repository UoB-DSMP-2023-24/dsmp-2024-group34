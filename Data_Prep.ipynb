{
 "cells": [
  {
   "cell_type": "code",
   "execution_count": 1,
   "id": "2919bc98",
   "metadata": {},
   "outputs": [],
   "source": [
    "import pandas as pd\n",
    "import numpy as np\n",
    "import matplotlib.pyplot as plt\n",
    "import seaborn as sns\n",
    "from datetime import datetime\n",
    "\n",
    "import warnings\n",
    "warnings.filterwarnings('ignore')"
   ]
  },
  {
   "cell_type": "markdown",
   "id": "45f804b2",
   "metadata": {},
   "source": [
    "#### READING DATA"
   ]
  },
  {
   "cell_type": "code",
   "execution_count": 2,
   "id": "276c4dd4",
   "metadata": {},
   "outputs": [],
   "source": [
    "data = pd.read_csv(\"/Users/daniyahammarah/Downloads/fake_transactional_data_24.csv\")"
   ]
  },
  {
   "cell_type": "markdown",
   "id": "de85f9ff",
   "metadata": {},
   "source": [
    "#### RENAMING COLUMNS\n"
   ]
  },
  {
   "cell_type": "code",
   "execution_count": 3,
   "id": "0118c530",
   "metadata": {},
   "outputs": [],
   "source": [
    "data.rename(columns = {'from_totally_fake_account':'Sender_Account_Num', 'monopoly_money_amount':'Amount', \n",
    "                              'to_randomly_generated_account':'Receiver', 'not_happened_yet_date':'Transaction_date'}, inplace = True)\n"
   ]
  },
  {
   "cell_type": "markdown",
   "id": "5aa425e7",
   "metadata": {},
   "source": [
    "#### DATE COLUMN TO DATE TYPE\n"
   ]
  },
  {
   "cell_type": "code",
   "execution_count": 4,
   "id": "b5e2d655",
   "metadata": {},
   "outputs": [
    {
     "name": "stdout",
     "output_type": "stream",
     "text": [
      "0          2025-01-01\n",
      "1          2025-01-01\n",
      "2          2025-01-01\n",
      "3          2025-01-01\n",
      "4          2025-01-01\n",
      "              ...    \n",
      "10148275   2025-12-31\n",
      "10148276   2025-12-31\n",
      "10148277   2025-12-31\n",
      "10148278   2025-12-31\n",
      "10148279   2025-12-31\n",
      "Name: Transaction_date, Length: 10148280, dtype: datetime64[ns]\n"
     ]
    }
   ],
   "source": [
    "data[\"Transaction_date\"] = pd.to_datetime(data.Transaction_date,format=\"%d/%m/%Y\")\n",
    "data[\"Transaction_Date\"] = data['Transaction_date'].dt.strftime('%m/%d/%Y')\n",
    "print(data['Transaction_date'])\n"
   ]
  },
  {
   "cell_type": "markdown",
   "id": "920735f4",
   "metadata": {},
   "source": [
    "#### EXTRACTING CALENDAR DETAILS\n"
   ]
  },
  {
   "cell_type": "code",
   "execution_count": 5,
   "id": "3cc8ab03",
   "metadata": {},
   "outputs": [
    {
     "data": {
      "text/html": [
       "<div>\n",
       "<style scoped>\n",
       "    .dataframe tbody tr th:only-of-type {\n",
       "        vertical-align: middle;\n",
       "    }\n",
       "\n",
       "    .dataframe tbody tr th {\n",
       "        vertical-align: top;\n",
       "    }\n",
       "\n",
       "    .dataframe thead th {\n",
       "        text-align: right;\n",
       "    }\n",
       "</style>\n",
       "<table border=\"1\" class=\"dataframe\">\n",
       "  <thead>\n",
       "    <tr style=\"text-align: right;\">\n",
       "      <th></th>\n",
       "      <th>Sender_Account_Num</th>\n",
       "      <th>Amount</th>\n",
       "      <th>Receiver</th>\n",
       "      <th>Transaction_date</th>\n",
       "      <th>Transaction_Date</th>\n",
       "      <th>Day_of_Week</th>\n",
       "      <th>Month</th>\n",
       "      <th>Week_of_Month</th>\n",
       "    </tr>\n",
       "  </thead>\n",
       "  <tbody>\n",
       "    <tr>\n",
       "      <th>0</th>\n",
       "      <td>10371.0</td>\n",
       "      <td>4.00</td>\n",
       "      <td>CINEMA</td>\n",
       "      <td>2025-01-01</td>\n",
       "      <td>01/01/2025</td>\n",
       "      <td>2</td>\n",
       "      <td>January</td>\n",
       "      <td>1</td>\n",
       "    </tr>\n",
       "    <tr>\n",
       "      <th>1</th>\n",
       "      <td>88339.0</td>\n",
       "      <td>2.40</td>\n",
       "      <td>40544</td>\n",
       "      <td>2025-01-01</td>\n",
       "      <td>01/01/2025</td>\n",
       "      <td>2</td>\n",
       "      <td>January</td>\n",
       "      <td>1</td>\n",
       "    </tr>\n",
       "    <tr>\n",
       "      <th>2</th>\n",
       "      <td>18555.0</td>\n",
       "      <td>2.40</td>\n",
       "      <td>85149</td>\n",
       "      <td>2025-01-01</td>\n",
       "      <td>01/01/2025</td>\n",
       "      <td>2</td>\n",
       "      <td>January</td>\n",
       "      <td>1</td>\n",
       "    </tr>\n",
       "    <tr>\n",
       "      <th>3</th>\n",
       "      <td>18555.0</td>\n",
       "      <td>4.10</td>\n",
       "      <td>HIPSTER_COFFEE_SHOP</td>\n",
       "      <td>2025-01-01</td>\n",
       "      <td>01/01/2025</td>\n",
       "      <td>2</td>\n",
       "      <td>January</td>\n",
       "      <td>1</td>\n",
       "    </tr>\n",
       "    <tr>\n",
       "      <th>4</th>\n",
       "      <td>80792.0</td>\n",
       "      <td>1.95</td>\n",
       "      <td>18555</td>\n",
       "      <td>2025-01-01</td>\n",
       "      <td>01/01/2025</td>\n",
       "      <td>2</td>\n",
       "      <td>January</td>\n",
       "      <td>1</td>\n",
       "    </tr>\n",
       "    <tr>\n",
       "      <th>...</th>\n",
       "      <td>...</td>\n",
       "      <td>...</td>\n",
       "      <td>...</td>\n",
       "      <td>...</td>\n",
       "      <td>...</td>\n",
       "      <td>...</td>\n",
       "      <td>...</td>\n",
       "      <td>...</td>\n",
       "    </tr>\n",
       "    <tr>\n",
       "      <th>10148275</th>\n",
       "      <td>32185.0</td>\n",
       "      <td>2.65</td>\n",
       "      <td>COFFEE_SHOP</td>\n",
       "      <td>2025-12-31</td>\n",
       "      <td>12/31/2025</td>\n",
       "      <td>2</td>\n",
       "      <td>December</td>\n",
       "      <td>5</td>\n",
       "    </tr>\n",
       "    <tr>\n",
       "      <th>10148276</th>\n",
       "      <td>32185.0</td>\n",
       "      <td>2.45</td>\n",
       "      <td>COFFEE_SHOP</td>\n",
       "      <td>2025-12-31</td>\n",
       "      <td>12/31/2025</td>\n",
       "      <td>2</td>\n",
       "      <td>December</td>\n",
       "      <td>5</td>\n",
       "    </tr>\n",
       "    <tr>\n",
       "      <th>10148277</th>\n",
       "      <td>57569.0</td>\n",
       "      <td>14.00</td>\n",
       "      <td>WINE_BAR</td>\n",
       "      <td>2025-12-31</td>\n",
       "      <td>12/31/2025</td>\n",
       "      <td>2</td>\n",
       "      <td>December</td>\n",
       "      <td>5</td>\n",
       "    </tr>\n",
       "    <tr>\n",
       "      <th>10148278</th>\n",
       "      <td>1490.0</td>\n",
       "      <td>9.00</td>\n",
       "      <td>57569</td>\n",
       "      <td>2025-12-31</td>\n",
       "      <td>12/31/2025</td>\n",
       "      <td>2</td>\n",
       "      <td>December</td>\n",
       "      <td>5</td>\n",
       "    </tr>\n",
       "    <tr>\n",
       "      <th>10148279</th>\n",
       "      <td>53444.0</td>\n",
       "      <td>2.65</td>\n",
       "      <td>A_LOCAL_COFFEE_SHOP</td>\n",
       "      <td>2025-12-31</td>\n",
       "      <td>12/31/2025</td>\n",
       "      <td>2</td>\n",
       "      <td>December</td>\n",
       "      <td>5</td>\n",
       "    </tr>\n",
       "  </tbody>\n",
       "</table>\n",
       "<p>10148280 rows × 8 columns</p>\n",
       "</div>"
      ],
      "text/plain": [
       "          Sender_Account_Num  Amount             Receiver Transaction_date  \\\n",
       "0                    10371.0    4.00               CINEMA       2025-01-01   \n",
       "1                    88339.0    2.40                40544       2025-01-01   \n",
       "2                    18555.0    2.40                85149       2025-01-01   \n",
       "3                    18555.0    4.10  HIPSTER_COFFEE_SHOP       2025-01-01   \n",
       "4                    80792.0    1.95                18555       2025-01-01   \n",
       "...                      ...     ...                  ...              ...   \n",
       "10148275             32185.0    2.65          COFFEE_SHOP       2025-12-31   \n",
       "10148276             32185.0    2.45          COFFEE_SHOP       2025-12-31   \n",
       "10148277             57569.0   14.00             WINE_BAR       2025-12-31   \n",
       "10148278              1490.0    9.00                57569       2025-12-31   \n",
       "10148279             53444.0    2.65  A_LOCAL_COFFEE_SHOP       2025-12-31   \n",
       "\n",
       "         Transaction_Date  Day_of_Week     Month  Week_of_Month  \n",
       "0              01/01/2025            2   January              1  \n",
       "1              01/01/2025            2   January              1  \n",
       "2              01/01/2025            2   January              1  \n",
       "3              01/01/2025            2   January              1  \n",
       "4              01/01/2025            2   January              1  \n",
       "...                   ...          ...       ...            ...  \n",
       "10148275       12/31/2025            2  December              5  \n",
       "10148276       12/31/2025            2  December              5  \n",
       "10148277       12/31/2025            2  December              5  \n",
       "10148278       12/31/2025            2  December              5  \n",
       "10148279       12/31/2025            2  December              5  \n",
       "\n",
       "[10148280 rows x 8 columns]"
      ]
     },
     "execution_count": 5,
     "metadata": {},
     "output_type": "execute_result"
    }
   ],
   "source": [
    "data['Day_of_Week'] = data['Transaction_date'].dt.dayofweek\n",
    "data['Month'] = data['Transaction_date'].dt.strftime('%B')\n",
    "data['Week_of_Month'] = data['Transaction_date'].dt.day // 7 + 1\n",
    "data"
   ]
  },
  {
   "cell_type": "markdown",
   "id": "b9236053",
   "metadata": {},
   "source": [
    "#### SENDER IN INTEGER TYPE AND PULLING LENGTH OF ACCNT NUMBERS\n"
   ]
  },
  {
   "cell_type": "code",
   "execution_count": 6,
   "id": "29f63d20",
   "metadata": {},
   "outputs": [
    {
     "name": "stdout",
     "output_type": "stream",
     "text": [
      "[5 4 6]\n"
     ]
    }
   ],
   "source": [
    "data['Sender_Account_Num'] = data['Sender_Account_Num'].astype(int)\n",
    "\n",
    "data['Sender_Account_Num_Length'] = data['Sender_Account_Num'].astype(str).apply(lambda x: len(x))\n",
    "\n",
    "unique_lengths = data['Sender_Account_Num_Length'].unique()\n",
    "print(unique_lengths)\n"
   ]
  },
  {
   "cell_type": "markdown",
   "id": "10adc821",
   "metadata": {},
   "source": [
    "#### RECEIVER IN INTEGER TYPE, RECEIVER NAME IN ANOTHER COL AND PULLING LENGTH OF ACCNT NUMBERS\n"
   ]
  },
  {
   "cell_type": "code",
   "execution_count": 7,
   "id": "ac63c010",
   "metadata": {},
   "outputs": [],
   "source": [
    "data['Receiver_Account_Num'] = pd.to_numeric(data['Receiver'], errors='coerce')\n",
    "mask = data['Receiver_Account_Num'].isna()\n",
    "data.loc[mask, 'Receiver_Name'] = data.loc[mask, 'Receiver']\n",
    "\n",
    "data['Receiver_Account_Num'] = data['Receiver_Account_Num'].fillna(0)\n",
    "\n",
    "data['Receiver_Account_Num'] = data['Receiver_Account_Num'].astype(int)\n",
    "\n",
    "data['Receiver_Account_Num_Length'] = data['Receiver_Account_Num'].astype(str).apply(lambda x: len(x))\n",
    "data['Receiver_Name'] = data['Receiver_Name'].astype(str)\n"
   ]
  },
  {
   "cell_type": "markdown",
   "id": "6b7fcf8c",
   "metadata": {},
   "source": [
    "#### SEEING THE RECEIVER NAMES LIST IN A CSV FILE\n"
   ]
  },
  {
   "cell_type": "code",
   "execution_count": 8,
   "id": "f80339c6",
   "metadata": {},
   "outputs": [],
   "source": [
    "receiver_names = data['Receiver_Name'].drop_duplicates()\n",
    "receiver_names.to_csv('receiver_names.csv', index=False)\n",
    "\n",
    "receiver_nums = data['Receiver_Account_Num'].drop_duplicates()\n",
    "receiver_nums.to_csv('receiver_nums.csv', index=False)"
   ]
  },
  {
   "cell_type": "markdown",
   "id": "925fbcfc",
   "metadata": {},
   "source": [
    "#### CHECK TYPE OF DATA AND NULLS\n"
   ]
  },
  {
   "cell_type": "code",
   "execution_count": 9,
   "id": "ed4c25e9",
   "metadata": {},
   "outputs": [
    {
     "name": "stdout",
     "output_type": "stream",
     "text": [
      "<class 'pandas.core.frame.DataFrame'>\n",
      "RangeIndex: 10148280 entries, 0 to 10148279\n",
      "Data columns (total 12 columns):\n",
      " #   Column                       Dtype         \n",
      "---  ------                       -----         \n",
      " 0   Sender_Account_Num           int64         \n",
      " 1   Amount                       float64       \n",
      " 2   Receiver                     object        \n",
      " 3   Transaction_date             datetime64[ns]\n",
      " 4   Transaction_Date             object        \n",
      " 5   Day_of_Week                  int32         \n",
      " 6   Month                        object        \n",
      " 7   Week_of_Month                int64         \n",
      " 8   Sender_Account_Num_Length    int64         \n",
      " 9   Receiver_Account_Num         int64         \n",
      " 10  Receiver_Name                object        \n",
      " 11  Receiver_Account_Num_Length  int64         \n",
      "dtypes: datetime64[ns](1), float64(1), int32(1), int64(5), object(4)\n",
      "memory usage: 890.4+ MB\n"
     ]
    }
   ],
   "source": [
    "data.info()"
   ]
  },
  {
   "cell_type": "code",
   "execution_count": 10,
   "id": "c9e7b900",
   "metadata": {},
   "outputs": [
    {
     "data": {
      "text/plain": [
       "Sender_Account_Num              8142\n",
       "Amount                          5236\n",
       "Receiver                       14300\n",
       "Transaction_date                 364\n",
       "Transaction_Date                 364\n",
       "Day_of_Week                        7\n",
       "Month                             12\n",
       "Week_of_Month                      5\n",
       "Sender_Account_Num_Length          3\n",
       "Receiver_Account_Num           14222\n",
       "Receiver_Name                     80\n",
       "Receiver_Account_Num_Length        4\n",
       "dtype: int64"
      ]
     },
     "execution_count": 10,
     "metadata": {},
     "output_type": "execute_result"
    }
   ],
   "source": [
    "data.nunique()"
   ]
  },
  {
   "cell_type": "markdown",
   "id": "281070ba",
   "metadata": {},
   "source": [
    "#### CREATING A TABLE WITH DUPLICATE ROWS SUMMED / no. of transactions reduce/ not sure if correct\n"
   ]
  },
  {
   "cell_type": "code",
   "execution_count": 11,
   "id": "1b433090",
   "metadata": {},
   "outputs": [],
   "source": [
    "data['is_duplicate'] = data.duplicated(subset=['Sender_Account_Num', 'Receiver_Account_Num', 'Receiver_Name', 'Transaction_Date', 'Amount'], keep=False)\n",
    "\n",
    "data_check = data\n",
    "data_check.to_csv('data_check.csv', index=False)\n",
    "\n",
    "summed_data = data.groupby(['Sender_Account_Num', 'Receiver_Account_Num', 'Receiver_Name','Transaction_Date', 'is_duplicate'], as_index=False)['Amount'].sum()\n",
    "\n",
    "summed_data.to_csv('summed_data.csv', index=False)\n"
   ]
  },
  {
   "cell_type": "markdown",
   "id": "04c53e19",
   "metadata": {},
   "source": [
    "#### CHECKING HOW MANY ACCOUNTS ARE SENDERS AND RECEIVERS IN THE DATA\n"
   ]
  },
  {
   "cell_type": "code",
   "execution_count": 12,
   "id": "84e775a0",
   "metadata": {},
   "outputs": [
    {
     "name": "stdout",
     "output_type": "stream",
     "text": [
      "Number of sender account numbers also present as receiver account numbers: 8127\n"
     ]
    }
   ],
   "source": [
    "unique_senders = set(data['Sender_Account_Num'])\n",
    "unique_receivers = set(data['Receiver_Account_Num'])\n",
    "\n",
    "common_account_numbers = unique_senders.intersection(unique_receivers)\n",
    "\n",
    "num_common_account_numbers = len(common_account_numbers)\n",
    "\n",
    "print(\"Number of sender account numbers also present as receiver account numbers:\", num_common_account_numbers) \n",
    "#out of 8142 accnt nums, 8127 are senders and receievrs \n"
   ]
  },
  {
   "cell_type": "markdown",
   "id": "e3ab77b4",
   "metadata": {},
   "source": [
    "#### SEPARATE INFLOW, OUTFLOW TABLES FOR ACCOUNTS AND BUSINESSES\n"
   ]
  },
  {
   "cell_type": "code",
   "execution_count": 13,
   "id": "a18d7c75",
   "metadata": {},
   "outputs": [],
   "source": [
    "inflow_account = data[[ 'Transaction_date', 'Receiver_Account_Num','Amount']]\n",
    "inflow_account = inflow_account[inflow_account['Receiver_Account_Num'] != 0]\n",
    "\n",
    "inflow_business = data[[ 'Transaction_date', 'Receiver_Name','Amount']]\n",
    "inflow_business = inflow_business.dropna(subset=['Receiver_Name'])\n",
    "\n",
    "outflow = data[[ 'Transaction_date', 'Sender_Account_Num','Amount']]\n"
   ]
  }
 ],
 "metadata": {
  "kernelspec": {
   "display_name": "Python 3 (ipykernel)",
   "language": "python",
   "name": "python3"
  },
  "language_info": {
   "codemirror_mode": {
    "name": "ipython",
    "version": 3
   },
   "file_extension": ".py",
   "mimetype": "text/x-python",
   "name": "python",
   "nbconvert_exporter": "python",
   "pygments_lexer": "ipython3",
   "version": "3.11.5"
  }
 },
 "nbformat": 4,
 "nbformat_minor": 5
}
