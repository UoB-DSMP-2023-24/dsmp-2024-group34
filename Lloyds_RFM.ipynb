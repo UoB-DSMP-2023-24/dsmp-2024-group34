{
 "cells": [
  {
   "cell_type": "code",
   "execution_count": 70,
   "id": "a4997a84",
   "metadata": {},
   "outputs": [],
   "source": [
    "import pandas as pd\n",
    "import numpy as np\n",
    "import matplotlib.pyplot as plt\n",
    "import seaborn as sns\n",
    "from datetime import datetime\n",
    "import warnings\n",
    "warnings.filterwarnings('ignore')"
   ]
  },
  {
   "cell_type": "markdown",
   "id": "66feefb1-fcc9-4d13-8cef-f1d6a61c705e",
   "metadata": {},
   "source": [
    "# EDA and Data Preparation"
   ]
  },
  {
   "cell_type": "code",
   "execution_count": 71,
   "id": "2ba01b80",
   "metadata": {},
   "outputs": [],
   "source": [
    "data = pd.read_csv(\"/Users/daniyahammarah/Downloads/DSMP/fake_transactional_data_24.csv\")"
   ]
  },
  {
   "cell_type": "code",
   "execution_count": 72,
   "id": "b9a46531",
   "metadata": {},
   "outputs": [
    {
     "data": {
      "text/html": [
       "<div>\n",
       "<style scoped>\n",
       "    .dataframe tbody tr th:only-of-type {\n",
       "        vertical-align: middle;\n",
       "    }\n",
       "\n",
       "    .dataframe tbody tr th {\n",
       "        vertical-align: top;\n",
       "    }\n",
       "\n",
       "    .dataframe thead th {\n",
       "        text-align: right;\n",
       "    }\n",
       "</style>\n",
       "<table border=\"1\" class=\"dataframe\">\n",
       "  <thead>\n",
       "    <tr style=\"text-align: right;\">\n",
       "      <th></th>\n",
       "      <th>from_totally_fake_account</th>\n",
       "      <th>monopoly_money_amount</th>\n",
       "      <th>to_randomly_generated_account</th>\n",
       "      <th>not_happened_yet_date</th>\n",
       "    </tr>\n",
       "  </thead>\n",
       "  <tbody>\n",
       "    <tr>\n",
       "      <th>0</th>\n",
       "      <td>10371.0</td>\n",
       "      <td>4.00</td>\n",
       "      <td>CINEMA</td>\n",
       "      <td>01/01/2025</td>\n",
       "    </tr>\n",
       "    <tr>\n",
       "      <th>1</th>\n",
       "      <td>88339.0</td>\n",
       "      <td>2.40</td>\n",
       "      <td>40544</td>\n",
       "      <td>01/01/2025</td>\n",
       "    </tr>\n",
       "    <tr>\n",
       "      <th>2</th>\n",
       "      <td>18555.0</td>\n",
       "      <td>2.40</td>\n",
       "      <td>85149</td>\n",
       "      <td>01/01/2025</td>\n",
       "    </tr>\n",
       "    <tr>\n",
       "      <th>3</th>\n",
       "      <td>18555.0</td>\n",
       "      <td>4.10</td>\n",
       "      <td>HIPSTER_COFFEE_SHOP</td>\n",
       "      <td>01/01/2025</td>\n",
       "    </tr>\n",
       "    <tr>\n",
       "      <th>4</th>\n",
       "      <td>80792.0</td>\n",
       "      <td>1.95</td>\n",
       "      <td>18555</td>\n",
       "      <td>01/01/2025</td>\n",
       "    </tr>\n",
       "    <tr>\n",
       "      <th>...</th>\n",
       "      <td>...</td>\n",
       "      <td>...</td>\n",
       "      <td>...</td>\n",
       "      <td>...</td>\n",
       "    </tr>\n",
       "    <tr>\n",
       "      <th>10148275</th>\n",
       "      <td>32185.0</td>\n",
       "      <td>2.65</td>\n",
       "      <td>COFFEE_SHOP</td>\n",
       "      <td>31/12/2025</td>\n",
       "    </tr>\n",
       "    <tr>\n",
       "      <th>10148276</th>\n",
       "      <td>32185.0</td>\n",
       "      <td>2.45</td>\n",
       "      <td>COFFEE_SHOP</td>\n",
       "      <td>31/12/2025</td>\n",
       "    </tr>\n",
       "    <tr>\n",
       "      <th>10148277</th>\n",
       "      <td>57569.0</td>\n",
       "      <td>14.00</td>\n",
       "      <td>WINE_BAR</td>\n",
       "      <td>31/12/2025</td>\n",
       "    </tr>\n",
       "    <tr>\n",
       "      <th>10148278</th>\n",
       "      <td>1490.0</td>\n",
       "      <td>9.00</td>\n",
       "      <td>57569</td>\n",
       "      <td>31/12/2025</td>\n",
       "    </tr>\n",
       "    <tr>\n",
       "      <th>10148279</th>\n",
       "      <td>53444.0</td>\n",
       "      <td>2.65</td>\n",
       "      <td>A_LOCAL_COFFEE_SHOP</td>\n",
       "      <td>31/12/2025</td>\n",
       "    </tr>\n",
       "  </tbody>\n",
       "</table>\n",
       "<p>10148280 rows × 4 columns</p>\n",
       "</div>"
      ],
      "text/plain": [
       "          from_totally_fake_account  monopoly_money_amount  \\\n",
       "0                           10371.0                   4.00   \n",
       "1                           88339.0                   2.40   \n",
       "2                           18555.0                   2.40   \n",
       "3                           18555.0                   4.10   \n",
       "4                           80792.0                   1.95   \n",
       "...                             ...                    ...   \n",
       "10148275                    32185.0                   2.65   \n",
       "10148276                    32185.0                   2.45   \n",
       "10148277                    57569.0                  14.00   \n",
       "10148278                     1490.0                   9.00   \n",
       "10148279                    53444.0                   2.65   \n",
       "\n",
       "         to_randomly_generated_account not_happened_yet_date  \n",
       "0                               CINEMA            01/01/2025  \n",
       "1                                40544            01/01/2025  \n",
       "2                                85149            01/01/2025  \n",
       "3                  HIPSTER_COFFEE_SHOP            01/01/2025  \n",
       "4                                18555            01/01/2025  \n",
       "...                                ...                   ...  \n",
       "10148275                   COFFEE_SHOP            31/12/2025  \n",
       "10148276                   COFFEE_SHOP            31/12/2025  \n",
       "10148277                      WINE_BAR            31/12/2025  \n",
       "10148278                         57569            31/12/2025  \n",
       "10148279           A_LOCAL_COFFEE_SHOP            31/12/2025  \n",
       "\n",
       "[10148280 rows x 4 columns]"
      ]
     },
     "execution_count": 72,
     "metadata": {},
     "output_type": "execute_result"
    }
   ],
   "source": [
    "data"
   ]
  },
  {
   "cell_type": "markdown",
   "id": "afaecfc7",
   "metadata": {},
   "source": [
    "#### Renaming columns"
   ]
  },
  {
   "cell_type": "code",
   "execution_count": 73,
   "id": "fac8bc92",
   "metadata": {},
   "outputs": [],
   "source": [
    "data.rename(columns = {'from_totally_fake_account':'Sender_Account_Num', 'monopoly_money_amount':'Amount', \n",
    "                              'to_randomly_generated_account':'Receiver', 'not_happened_yet_date':'Transaction_date'}, inplace = True)\n"
   ]
  },
  {
   "cell_type": "markdown",
   "id": "094342fc",
   "metadata": {},
   "source": [
    "#### Converting Date col to Date Type"
   ]
  },
  {
   "cell_type": "code",
   "execution_count": 74,
   "id": "ee907e78",
   "metadata": {},
   "outputs": [
    {
     "name": "stdout",
     "output_type": "stream",
     "text": [
      "0          2025-01-01\n",
      "1          2025-01-01\n",
      "2          2025-01-01\n",
      "3          2025-01-01\n",
      "4          2025-01-01\n",
      "              ...    \n",
      "10148275   2025-12-31\n",
      "10148276   2025-12-31\n",
      "10148277   2025-12-31\n",
      "10148278   2025-12-31\n",
      "10148279   2025-12-31\n",
      "Name: Transaction_date, Length: 10148280, dtype: datetime64[ns]\n"
     ]
    }
   ],
   "source": [
    "data[\"Transaction_date\"] = pd.to_datetime(data.Transaction_date,format=\"%d/%m/%Y\")\n",
    "data[\"Transaction_Date\"] = data['Transaction_date'].dt.strftime('%m/%d/%Y')\n",
    "print(data['Transaction_date'])"
   ]
  },
  {
   "cell_type": "code",
   "execution_count": 75,
   "id": "ac332484",
   "metadata": {},
   "outputs": [
    {
     "data": {
      "text/html": [
       "<div>\n",
       "<style scoped>\n",
       "    .dataframe tbody tr th:only-of-type {\n",
       "        vertical-align: middle;\n",
       "    }\n",
       "\n",
       "    .dataframe tbody tr th {\n",
       "        vertical-align: top;\n",
       "    }\n",
       "\n",
       "    .dataframe thead th {\n",
       "        text-align: right;\n",
       "    }\n",
       "</style>\n",
       "<table border=\"1\" class=\"dataframe\">\n",
       "  <thead>\n",
       "    <tr style=\"text-align: right;\">\n",
       "      <th></th>\n",
       "      <th>Sender_Account_Num</th>\n",
       "      <th>Amount</th>\n",
       "      <th>Receiver</th>\n",
       "      <th>Transaction_date</th>\n",
       "      <th>Transaction_Date</th>\n",
       "      <th>Day_of_Week</th>\n",
       "      <th>Month</th>\n",
       "      <th>Week_of_Month</th>\n",
       "    </tr>\n",
       "  </thead>\n",
       "  <tbody>\n",
       "    <tr>\n",
       "      <th>0</th>\n",
       "      <td>10371.0</td>\n",
       "      <td>4.00</td>\n",
       "      <td>CINEMA</td>\n",
       "      <td>2025-01-01</td>\n",
       "      <td>01/01/2025</td>\n",
       "      <td>2</td>\n",
       "      <td>January</td>\n",
       "      <td>1</td>\n",
       "    </tr>\n",
       "    <tr>\n",
       "      <th>1</th>\n",
       "      <td>88339.0</td>\n",
       "      <td>2.40</td>\n",
       "      <td>40544</td>\n",
       "      <td>2025-01-01</td>\n",
       "      <td>01/01/2025</td>\n",
       "      <td>2</td>\n",
       "      <td>January</td>\n",
       "      <td>1</td>\n",
       "    </tr>\n",
       "    <tr>\n",
       "      <th>2</th>\n",
       "      <td>18555.0</td>\n",
       "      <td>2.40</td>\n",
       "      <td>85149</td>\n",
       "      <td>2025-01-01</td>\n",
       "      <td>01/01/2025</td>\n",
       "      <td>2</td>\n",
       "      <td>January</td>\n",
       "      <td>1</td>\n",
       "    </tr>\n",
       "    <tr>\n",
       "      <th>3</th>\n",
       "      <td>18555.0</td>\n",
       "      <td>4.10</td>\n",
       "      <td>HIPSTER_COFFEE_SHOP</td>\n",
       "      <td>2025-01-01</td>\n",
       "      <td>01/01/2025</td>\n",
       "      <td>2</td>\n",
       "      <td>January</td>\n",
       "      <td>1</td>\n",
       "    </tr>\n",
       "    <tr>\n",
       "      <th>4</th>\n",
       "      <td>80792.0</td>\n",
       "      <td>1.95</td>\n",
       "      <td>18555</td>\n",
       "      <td>2025-01-01</td>\n",
       "      <td>01/01/2025</td>\n",
       "      <td>2</td>\n",
       "      <td>January</td>\n",
       "      <td>1</td>\n",
       "    </tr>\n",
       "    <tr>\n",
       "      <th>...</th>\n",
       "      <td>...</td>\n",
       "      <td>...</td>\n",
       "      <td>...</td>\n",
       "      <td>...</td>\n",
       "      <td>...</td>\n",
       "      <td>...</td>\n",
       "      <td>...</td>\n",
       "      <td>...</td>\n",
       "    </tr>\n",
       "    <tr>\n",
       "      <th>10148275</th>\n",
       "      <td>32185.0</td>\n",
       "      <td>2.65</td>\n",
       "      <td>COFFEE_SHOP</td>\n",
       "      <td>2025-12-31</td>\n",
       "      <td>12/31/2025</td>\n",
       "      <td>2</td>\n",
       "      <td>December</td>\n",
       "      <td>5</td>\n",
       "    </tr>\n",
       "    <tr>\n",
       "      <th>10148276</th>\n",
       "      <td>32185.0</td>\n",
       "      <td>2.45</td>\n",
       "      <td>COFFEE_SHOP</td>\n",
       "      <td>2025-12-31</td>\n",
       "      <td>12/31/2025</td>\n",
       "      <td>2</td>\n",
       "      <td>December</td>\n",
       "      <td>5</td>\n",
       "    </tr>\n",
       "    <tr>\n",
       "      <th>10148277</th>\n",
       "      <td>57569.0</td>\n",
       "      <td>14.00</td>\n",
       "      <td>WINE_BAR</td>\n",
       "      <td>2025-12-31</td>\n",
       "      <td>12/31/2025</td>\n",
       "      <td>2</td>\n",
       "      <td>December</td>\n",
       "      <td>5</td>\n",
       "    </tr>\n",
       "    <tr>\n",
       "      <th>10148278</th>\n",
       "      <td>1490.0</td>\n",
       "      <td>9.00</td>\n",
       "      <td>57569</td>\n",
       "      <td>2025-12-31</td>\n",
       "      <td>12/31/2025</td>\n",
       "      <td>2</td>\n",
       "      <td>December</td>\n",
       "      <td>5</td>\n",
       "    </tr>\n",
       "    <tr>\n",
       "      <th>10148279</th>\n",
       "      <td>53444.0</td>\n",
       "      <td>2.65</td>\n",
       "      <td>A_LOCAL_COFFEE_SHOP</td>\n",
       "      <td>2025-12-31</td>\n",
       "      <td>12/31/2025</td>\n",
       "      <td>2</td>\n",
       "      <td>December</td>\n",
       "      <td>5</td>\n",
       "    </tr>\n",
       "  </tbody>\n",
       "</table>\n",
       "<p>10148280 rows × 8 columns</p>\n",
       "</div>"
      ],
      "text/plain": [
       "          Sender_Account_Num  Amount             Receiver Transaction_date  \\\n",
       "0                    10371.0    4.00               CINEMA       2025-01-01   \n",
       "1                    88339.0    2.40                40544       2025-01-01   \n",
       "2                    18555.0    2.40                85149       2025-01-01   \n",
       "3                    18555.0    4.10  HIPSTER_COFFEE_SHOP       2025-01-01   \n",
       "4                    80792.0    1.95                18555       2025-01-01   \n",
       "...                      ...     ...                  ...              ...   \n",
       "10148275             32185.0    2.65          COFFEE_SHOP       2025-12-31   \n",
       "10148276             32185.0    2.45          COFFEE_SHOP       2025-12-31   \n",
       "10148277             57569.0   14.00             WINE_BAR       2025-12-31   \n",
       "10148278              1490.0    9.00                57569       2025-12-31   \n",
       "10148279             53444.0    2.65  A_LOCAL_COFFEE_SHOP       2025-12-31   \n",
       "\n",
       "         Transaction_Date  Day_of_Week     Month  Week_of_Month  \n",
       "0              01/01/2025            2   January              1  \n",
       "1              01/01/2025            2   January              1  \n",
       "2              01/01/2025            2   January              1  \n",
       "3              01/01/2025            2   January              1  \n",
       "4              01/01/2025            2   January              1  \n",
       "...                   ...          ...       ...            ...  \n",
       "10148275       12/31/2025            2  December              5  \n",
       "10148276       12/31/2025            2  December              5  \n",
       "10148277       12/31/2025            2  December              5  \n",
       "10148278       12/31/2025            2  December              5  \n",
       "10148279       12/31/2025            2  December              5  \n",
       "\n",
       "[10148280 rows x 8 columns]"
      ]
     },
     "execution_count": 75,
     "metadata": {},
     "output_type": "execute_result"
    }
   ],
   "source": [
    "data['Day_of_Week'] = data['Transaction_date'].dt.dayofweek\n",
    "data['Month'] = data['Transaction_date'].dt.strftime('%B')\n",
    "data['Week_of_Month'] = data['Transaction_date'].dt.day // 7 + 1\n",
    "data\n"
   ]
  },
  {
   "cell_type": "markdown",
   "id": "bb18102a-e603-4361-aa11-89bdbb8e1654",
   "metadata": {},
   "source": [
    "#### Sender Accnt No. in INTEGER and extracting length of account number."
   ]
  },
  {
   "cell_type": "code",
   "execution_count": 77,
   "id": "a07b8fe1",
   "metadata": {},
   "outputs": [
    {
     "name": "stdout",
     "output_type": "stream",
     "text": [
      "[5 4 6]\n"
     ]
    }
   ],
   "source": [
    "data['Sender_Account_Num'] = data['Sender_Account_Num'].astype(int)\n",
    "\n",
    "data['Sender_Account_Num_Length'] = data['Sender_Account_Num'].astype(str).apply(lambda x: len(x))\n",
    "\n",
    "unique_lengths = data['Sender_Account_Num_Length'].unique()\n",
    "print(unique_lengths)"
   ]
  },
  {
   "cell_type": "code",
   "execution_count": 213,
   "id": "24e6390c-6fe1-40e9-af90-9bac575b8b5a",
   "metadata": {},
   "outputs": [
    {
     "name": "stdout",
     "output_type": "stream",
     "text": [
      "[1 5 4 6]\n"
     ]
    }
   ],
   "source": [
    "data['Receiver_Account_Num'] = data['Receiver_Account_Num'].astype(int)\n",
    "\n",
    "data['Receiver_Account_Num_Length'] = data['Receiver_Account_Num'].astype(str).apply(lambda x: len(x))\n",
    "\n",
    "unique_lengths = data['Receiver_Account_Num_Length'].unique()\n",
    "print(unique_lengths)"
   ]
  },
  {
   "cell_type": "markdown",
   "id": "0cdb6b72-1443-426c-81ce-012c44655070",
   "metadata": {},
   "source": [
    "#### Receiver Accnt No. in INTEGER and extracting business names into new column."
   ]
  },
  {
   "cell_type": "code",
   "execution_count": 79,
   "id": "4594f0db",
   "metadata": {},
   "outputs": [],
   "source": [
    "data['Receiver_Account_Num'] = pd.to_numeric(data['Receiver'], errors='coerce')\n",
    "mask = data['Receiver_Account_Num'].isna()\n",
    "data.loc[mask, 'Receiver_Name'] = data.loc[mask, 'Receiver']\n",
    "\n",
    "data['Receiver_Account_Num'] = data['Receiver_Account_Num'].fillna(0)\n",
    "\n",
    "data['Receiver_Account_Num'] = data['Receiver_Account_Num'].astype(int)\n",
    "\n",
    "data['Receiver_Account_Num_Length'] = data['Receiver_Account_Num'].astype(str).apply(lambda x: len(x))\n",
    "data['Receiver_Name'] = data['Receiver_Name'].astype(str)"
   ]
  },
  {
   "cell_type": "code",
   "execution_count": 81,
   "id": "ae70f99a",
   "metadata": {},
   "outputs": [],
   "source": [
    "receiver_names = data['Receiver_Name'].drop_duplicates()\n",
    "receiver_names.to_csv('receiver_names.csv', index=False)\n",
    "\n",
    "receiver_nums = data['Receiver_Account_Num'].drop_duplicates()\n",
    "receiver_nums.to_csv('receiver_nums.csv', index=False)"
   ]
  },
  {
   "cell_type": "markdown",
   "id": "b084f8fe",
   "metadata": {},
   "source": [
    "#### Data Type"
   ]
  },
  {
   "cell_type": "code",
   "execution_count": 82,
   "id": "e0b8e160",
   "metadata": {},
   "outputs": [
    {
     "name": "stdout",
     "output_type": "stream",
     "text": [
      "<class 'pandas.core.frame.DataFrame'>\n",
      "RangeIndex: 10148280 entries, 0 to 10148279\n",
      "Data columns (total 12 columns):\n",
      " #   Column                       Dtype         \n",
      "---  ------                       -----         \n",
      " 0   Sender_Account_Num           int64         \n",
      " 1   Amount                       float64       \n",
      " 2   Receiver                     object        \n",
      " 3   Transaction_date             datetime64[ns]\n",
      " 4   Transaction_Date             object        \n",
      " 5   Day_of_Week                  int32         \n",
      " 6   Month                        object        \n",
      " 7   Week_of_Month                int64         \n",
      " 8   Sender_Account_Num_Length    int64         \n",
      " 9   Receiver_Account_Num         int64         \n",
      " 10  Receiver_Name                object        \n",
      " 11  Receiver_Account_Num_Length  int64         \n",
      "dtypes: datetime64[ns](1), float64(1), int32(1), int64(5), object(4)\n",
      "memory usage: 890.4+ MB\n"
     ]
    }
   ],
   "source": [
    "data.info()"
   ]
  },
  {
   "cell_type": "markdown",
   "id": "dbdbd842",
   "metadata": {},
   "source": [
    "#### Unique values "
   ]
  },
  {
   "cell_type": "code",
   "execution_count": 83,
   "id": "1632a2fe",
   "metadata": {},
   "outputs": [
    {
     "data": {
      "text/plain": [
       "Sender_Account_Num              8142\n",
       "Amount                          5236\n",
       "Receiver                       14300\n",
       "Transaction_date                 364\n",
       "Transaction_Date                 364\n",
       "Day_of_Week                        7\n",
       "Month                             12\n",
       "Week_of_Month                      5\n",
       "Sender_Account_Num_Length          3\n",
       "Receiver_Account_Num           14222\n",
       "Receiver_Name                     80\n",
       "Receiver_Account_Num_Length        4\n",
       "dtype: int64"
      ]
     },
     "execution_count": 83,
     "metadata": {},
     "output_type": "execute_result"
    }
   ],
   "source": [
    "data.nunique()"
   ]
  },
  {
   "cell_type": "code",
   "execution_count": 84,
   "id": "08c09c7c",
   "metadata": {},
   "outputs": [
    {
     "data": {
      "text/plain": [
       "10148280"
      ]
     },
     "execution_count": 84,
     "metadata": {},
     "output_type": "execute_result"
    }
   ],
   "source": [
    "data.shape[0]"
   ]
  },
  {
   "cell_type": "markdown",
   "id": "93a24f93-7580-4fea-9287-d50cb936b046",
   "metadata": {},
   "source": [
    "#### Nulls"
   ]
  },
  {
   "cell_type": "code",
   "execution_count": 85,
   "id": "bcd1e900",
   "metadata": {},
   "outputs": [
    {
     "data": {
      "text/plain": [
       "Sender_Account_Num             0\n",
       "Amount                         0\n",
       "Receiver                       0\n",
       "Transaction_date               0\n",
       "Transaction_Date               0\n",
       "Day_of_Week                    0\n",
       "Month                          0\n",
       "Week_of_Month                  0\n",
       "Sender_Account_Num_Length      0\n",
       "Receiver_Account_Num           0\n",
       "Receiver_Name                  0\n",
       "Receiver_Account_Num_Length    0\n",
       "dtype: int64"
      ]
     },
     "execution_count": 85,
     "metadata": {},
     "output_type": "execute_result"
    }
   ],
   "source": [
    "data.isnull().sum()"
   ]
  },
  {
   "cell_type": "markdown",
   "id": "cc9fa272-6c9a-44ec-83f3-706d69fa4a70",
   "metadata": {},
   "source": [
    "#### Data Stats"
   ]
  },
  {
   "cell_type": "code",
   "execution_count": 86,
   "id": "2b24d834",
   "metadata": {},
   "outputs": [
    {
     "data": {
      "text/html": [
       "<div>\n",
       "<style scoped>\n",
       "    .dataframe tbody tr th:only-of-type {\n",
       "        vertical-align: middle;\n",
       "    }\n",
       "\n",
       "    .dataframe tbody tr th {\n",
       "        vertical-align: top;\n",
       "    }\n",
       "\n",
       "    .dataframe thead th {\n",
       "        text-align: right;\n",
       "    }\n",
       "</style>\n",
       "<table border=\"1\" class=\"dataframe\">\n",
       "  <thead>\n",
       "    <tr style=\"text-align: right;\">\n",
       "      <th></th>\n",
       "      <th>count</th>\n",
       "      <th>mean</th>\n",
       "      <th>min</th>\n",
       "      <th>25%</th>\n",
       "      <th>50%</th>\n",
       "      <th>75%</th>\n",
       "      <th>max</th>\n",
       "      <th>std</th>\n",
       "    </tr>\n",
       "  </thead>\n",
       "  <tbody>\n",
       "    <tr>\n",
       "      <th>Sender_Account_Num</th>\n",
       "      <td>10148280.0</td>\n",
       "      <td>50805.021701</td>\n",
       "      <td>1000.0</td>\n",
       "      <td>25304.0</td>\n",
       "      <td>50781.0</td>\n",
       "      <td>75633.0</td>\n",
       "      <td>100988.0</td>\n",
       "      <td>28937.100678</td>\n",
       "    </tr>\n",
       "    <tr>\n",
       "      <th>Amount</th>\n",
       "      <td>10148280.0</td>\n",
       "      <td>18.393485</td>\n",
       "      <td>1.45</td>\n",
       "      <td>2.65</td>\n",
       "      <td>6.0</td>\n",
       "      <td>12.0</td>\n",
       "      <td>1995.0</td>\n",
       "      <td>86.123232</td>\n",
       "    </tr>\n",
       "    <tr>\n",
       "      <th>Transaction_date</th>\n",
       "      <td>10148280</td>\n",
       "      <td>2025-07-02 20:10:40.958271744</td>\n",
       "      <td>2025-01-01 00:00:00</td>\n",
       "      <td>2025-04-02 00:00:00</td>\n",
       "      <td>2025-07-03 00:00:00</td>\n",
       "      <td>2025-10-04 00:00:00</td>\n",
       "      <td>2025-12-31 00:00:00</td>\n",
       "      <td>NaN</td>\n",
       "    </tr>\n",
       "    <tr>\n",
       "      <th>Day_of_Week</th>\n",
       "      <td>10148280.0</td>\n",
       "      <td>3.728669</td>\n",
       "      <td>0.0</td>\n",
       "      <td>2.0</td>\n",
       "      <td>4.0</td>\n",
       "      <td>5.0</td>\n",
       "      <td>6.0</td>\n",
       "      <td>1.897975</td>\n",
       "    </tr>\n",
       "    <tr>\n",
       "      <th>Week_of_Month</th>\n",
       "      <td>10148280.0</td>\n",
       "      <td>2.818001</td>\n",
       "      <td>1.0</td>\n",
       "      <td>2.0</td>\n",
       "      <td>3.0</td>\n",
       "      <td>4.0</td>\n",
       "      <td>5.0</td>\n",
       "      <td>1.291484</td>\n",
       "    </tr>\n",
       "    <tr>\n",
       "      <th>Sender_Account_Num_Length</th>\n",
       "      <td>10148280.0</td>\n",
       "      <td>4.920373</td>\n",
       "      <td>4.0</td>\n",
       "      <td>5.0</td>\n",
       "      <td>5.0</td>\n",
       "      <td>5.0</td>\n",
       "      <td>6.0</td>\n",
       "      <td>0.309151</td>\n",
       "    </tr>\n",
       "    <tr>\n",
       "      <th>Receiver_Account_Num</th>\n",
       "      <td>10148280.0</td>\n",
       "      <td>12785.606255</td>\n",
       "      <td>0.0</td>\n",
       "      <td>0.0</td>\n",
       "      <td>0.0</td>\n",
       "      <td>0.0</td>\n",
       "      <td>100988.0</td>\n",
       "      <td>26433.992868</td>\n",
       "    </tr>\n",
       "    <tr>\n",
       "      <th>Receiver_Account_Num_Length</th>\n",
       "      <td>10148280.0</td>\n",
       "      <td>1.979424</td>\n",
       "      <td>1.0</td>\n",
       "      <td>1.0</td>\n",
       "      <td>1.0</td>\n",
       "      <td>1.0</td>\n",
       "      <td>6.0</td>\n",
       "      <td>1.705149</td>\n",
       "    </tr>\n",
       "  </tbody>\n",
       "</table>\n",
       "</div>"
      ],
      "text/plain": [
       "                                  count                           mean  \\\n",
       "Sender_Account_Num           10148280.0                   50805.021701   \n",
       "Amount                       10148280.0                      18.393485   \n",
       "Transaction_date               10148280  2025-07-02 20:10:40.958271744   \n",
       "Day_of_Week                  10148280.0                       3.728669   \n",
       "Week_of_Month                10148280.0                       2.818001   \n",
       "Sender_Account_Num_Length    10148280.0                       4.920373   \n",
       "Receiver_Account_Num         10148280.0                   12785.606255   \n",
       "Receiver_Account_Num_Length  10148280.0                       1.979424   \n",
       "\n",
       "                                             min                  25%  \\\n",
       "Sender_Account_Num                        1000.0              25304.0   \n",
       "Amount                                      1.45                 2.65   \n",
       "Transaction_date             2025-01-01 00:00:00  2025-04-02 00:00:00   \n",
       "Day_of_Week                                  0.0                  2.0   \n",
       "Week_of_Month                                1.0                  2.0   \n",
       "Sender_Account_Num_Length                    4.0                  5.0   \n",
       "Receiver_Account_Num                         0.0                  0.0   \n",
       "Receiver_Account_Num_Length                  1.0                  1.0   \n",
       "\n",
       "                                             50%                  75%  \\\n",
       "Sender_Account_Num                       50781.0              75633.0   \n",
       "Amount                                       6.0                 12.0   \n",
       "Transaction_date             2025-07-03 00:00:00  2025-10-04 00:00:00   \n",
       "Day_of_Week                                  4.0                  5.0   \n",
       "Week_of_Month                                3.0                  4.0   \n",
       "Sender_Account_Num_Length                    5.0                  5.0   \n",
       "Receiver_Account_Num                         0.0                  0.0   \n",
       "Receiver_Account_Num_Length                  1.0                  1.0   \n",
       "\n",
       "                                             max           std  \n",
       "Sender_Account_Num                      100988.0  28937.100678  \n",
       "Amount                                    1995.0     86.123232  \n",
       "Transaction_date             2025-12-31 00:00:00           NaN  \n",
       "Day_of_Week                                  6.0      1.897975  \n",
       "Week_of_Month                                5.0      1.291484  \n",
       "Sender_Account_Num_Length                    6.0      0.309151  \n",
       "Receiver_Account_Num                    100988.0  26433.992868  \n",
       "Receiver_Account_Num_Length                  6.0      1.705149  "
      ]
     },
     "execution_count": 86,
     "metadata": {},
     "output_type": "execute_result"
    }
   ],
   "source": [
    "data.describe().T"
   ]
  },
  {
   "cell_type": "markdown",
   "id": "ece84531-6486-45c7-950a-10e5a37d79db",
   "metadata": {},
   "source": [
    "#### checking the effect of dropping duplicates"
   ]
  },
  {
   "cell_type": "code",
   "execution_count": 87,
   "id": "b7689fc6",
   "metadata": {},
   "outputs": [
    {
     "data": {
      "text/plain": [
       "8482106"
      ]
     },
     "execution_count": 87,
     "metadata": {},
     "output_type": "execute_result"
    }
   ],
   "source": [
    "data_drop = data.drop_duplicates() #cant drop duplicates, the dates are not timestamped\n",
    "data_drop.shape[0]"
   ]
  },
  {
   "cell_type": "markdown",
   "id": "d38d87b6-509c-4bd7-ab30-5b4b8cb1be0e",
   "metadata": {},
   "source": [
    "#### marking duplicate rows"
   ]
  },
  {
   "cell_type": "code",
   "execution_count": 89,
   "id": "37f1f0ac",
   "metadata": {},
   "outputs": [],
   "source": [
    "data['is_duplicate'] = data.duplicated(subset=['Sender_Account_Num', 'Receiver_Account_Num', 'Receiver_Name', 'Transaction_Date', 'Amount'], keep=False)\n",
    "\n",
    "data_check = data\n",
    "data_check.to_csv('data_check.csv', index=False)\n"
   ]
  },
  {
   "cell_type": "markdown",
   "id": "92ba2f81-6610-4173-adba-024a476ee374",
   "metadata": {},
   "source": [
    "#### checking if all receivers are also senders"
   ]
  },
  {
   "cell_type": "code",
   "execution_count": 92,
   "id": "dac82f85",
   "metadata": {},
   "outputs": [
    {
     "name": "stdout",
     "output_type": "stream",
     "text": [
      "Number of sender account numbers also present as receiver account numbers: 8127\n"
     ]
    }
   ],
   "source": [
    "unique_senders = set(data['Sender_Account_Num'])\n",
    "unique_receivers = set(data['Receiver_Account_Num'])\n",
    "\n",
    "common_account_numbers = unique_senders.intersection(unique_receivers)\n",
    "\n",
    "num_common_account_numbers = len(common_account_numbers)\n",
    "\n",
    "print(\"Number of sender account numbers also present as receiver account numbers:\", num_common_account_numbers)"
   ]
  },
  {
   "cell_type": "markdown",
   "id": "2463ec98",
   "metadata": {},
   "source": [
    "#### Extracting Receiver Account NAMES"
   ]
  },
  {
   "cell_type": "code",
   "execution_count": 94,
   "id": "893ec5fd",
   "metadata": {},
   "outputs": [],
   "source": [
    "receiver_names = data[data['Receiver'].str.isalpha()]['Receiver_Account_Num'].drop_duplicates()\n",
    "# receiver_names = receiver_names[['Receiver_Account_Num']].drop_duplicates()\n",
    "\n",
    "receiver_names.to_csv('receiver_names.csv', index=False)"
   ]
  },
  {
   "cell_type": "code",
   "execution_count": 95,
   "id": "05cb28e2",
   "metadata": {},
   "outputs": [],
   "source": [
    "receiver_nums = data[['Receiver_Account_Num']].drop_duplicates()\n",
    "\n",
    "receiver_nums\n",
    "\n",
    "receiver_nums.to_csv('receiver_num.csv', index=False)"
   ]
  },
  {
   "cell_type": "markdown",
   "id": "ae57b3e1",
   "metadata": {},
   "source": [
    "#### Min date"
   ]
  },
  {
   "cell_type": "code",
   "execution_count": 96,
   "id": "06911ff6",
   "metadata": {},
   "outputs": [
    {
     "data": {
      "text/plain": [
       "Timestamp('2025-01-01 00:00:00')"
      ]
     },
     "execution_count": 96,
     "metadata": {},
     "output_type": "execute_result"
    }
   ],
   "source": [
    "min_date = data['Transaction_date'].min()\n",
    "min_date"
   ]
  },
  {
   "cell_type": "markdown",
   "id": "df186c88",
   "metadata": {},
   "source": [
    "#### Max date"
   ]
  },
  {
   "cell_type": "code",
   "execution_count": 97,
   "id": "61f261c9",
   "metadata": {},
   "outputs": [
    {
     "data": {
      "text/plain": [
       "Timestamp('2025-12-31 00:00:00')"
      ]
     },
     "execution_count": 97,
     "metadata": {},
     "output_type": "execute_result"
    }
   ],
   "source": [
    "max_date = data['Transaction_date'].max()\n",
    "max_date"
   ]
  },
  {
   "cell_type": "markdown",
   "id": "3d54c32d",
   "metadata": {},
   "source": [
    "#### Missing dates"
   ]
  },
  {
   "cell_type": "code",
   "execution_count": 98,
   "id": "4be7e2e5",
   "metadata": {},
   "outputs": [
    {
     "data": {
      "text/plain": [
       "DatetimeIndex(['2025-08-22'], dtype='datetime64[ns]', freq='D')"
      ]
     },
     "execution_count": 98,
     "metadata": {},
     "output_type": "execute_result"
    }
   ],
   "source": [
    "date_range = pd.date_range(start=min_date, end=max_date)\n",
    "missing_dates = date_range[~date_range.isin(data['Transaction_date'])]\n",
    "missing_dates"
   ]
  },
  {
   "cell_type": "markdown",
   "id": "ffcd36a8",
   "metadata": {},
   "source": [
    "#### Extracting month and year"
   ]
  },
  {
   "cell_type": "code",
   "execution_count": 99,
   "id": "a64492ea",
   "metadata": {},
   "outputs": [
    {
     "data": {
      "text/html": [
       "<div>\n",
       "<style scoped>\n",
       "    .dataframe tbody tr th:only-of-type {\n",
       "        vertical-align: middle;\n",
       "    }\n",
       "\n",
       "    .dataframe tbody tr th {\n",
       "        vertical-align: top;\n",
       "    }\n",
       "\n",
       "    .dataframe thead th {\n",
       "        text-align: right;\n",
       "    }\n",
       "</style>\n",
       "<table border=\"1\" class=\"dataframe\">\n",
       "  <thead>\n",
       "    <tr style=\"text-align: right;\">\n",
       "      <th></th>\n",
       "      <th>Sender_Account_Num</th>\n",
       "      <th>Amount</th>\n",
       "      <th>Receiver</th>\n",
       "      <th>Transaction_date</th>\n",
       "      <th>Transaction_Date</th>\n",
       "      <th>Day_of_Week</th>\n",
       "      <th>Month</th>\n",
       "      <th>Week_of_Month</th>\n",
       "      <th>Sender_Account_Num_Length</th>\n",
       "      <th>Receiver_Account_Num</th>\n",
       "      <th>Receiver_Name</th>\n",
       "      <th>Receiver_Account_Num_Length</th>\n",
       "      <th>is_duplicate</th>\n",
       "      <th>Transaction_Month</th>\n",
       "      <th>Transaction_Year</th>\n",
       "    </tr>\n",
       "  </thead>\n",
       "  <tbody>\n",
       "    <tr>\n",
       "      <th>0</th>\n",
       "      <td>10371</td>\n",
       "      <td>4.00</td>\n",
       "      <td>CINEMA</td>\n",
       "      <td>2025-01-01</td>\n",
       "      <td>01/01/2025</td>\n",
       "      <td>2</td>\n",
       "      <td>January</td>\n",
       "      <td>1</td>\n",
       "      <td>5</td>\n",
       "      <td>0</td>\n",
       "      <td>CINEMA</td>\n",
       "      <td>1</td>\n",
       "      <td>False</td>\n",
       "      <td>1</td>\n",
       "      <td>2025</td>\n",
       "    </tr>\n",
       "    <tr>\n",
       "      <th>1</th>\n",
       "      <td>88339</td>\n",
       "      <td>2.40</td>\n",
       "      <td>40544</td>\n",
       "      <td>2025-01-01</td>\n",
       "      <td>01/01/2025</td>\n",
       "      <td>2</td>\n",
       "      <td>January</td>\n",
       "      <td>1</td>\n",
       "      <td>5</td>\n",
       "      <td>40544</td>\n",
       "      <td>nan</td>\n",
       "      <td>5</td>\n",
       "      <td>False</td>\n",
       "      <td>1</td>\n",
       "      <td>2025</td>\n",
       "    </tr>\n",
       "    <tr>\n",
       "      <th>2</th>\n",
       "      <td>18555</td>\n",
       "      <td>2.40</td>\n",
       "      <td>85149</td>\n",
       "      <td>2025-01-01</td>\n",
       "      <td>01/01/2025</td>\n",
       "      <td>2</td>\n",
       "      <td>January</td>\n",
       "      <td>1</td>\n",
       "      <td>5</td>\n",
       "      <td>85149</td>\n",
       "      <td>nan</td>\n",
       "      <td>5</td>\n",
       "      <td>False</td>\n",
       "      <td>1</td>\n",
       "      <td>2025</td>\n",
       "    </tr>\n",
       "    <tr>\n",
       "      <th>3</th>\n",
       "      <td>18555</td>\n",
       "      <td>4.10</td>\n",
       "      <td>HIPSTER_COFFEE_SHOP</td>\n",
       "      <td>2025-01-01</td>\n",
       "      <td>01/01/2025</td>\n",
       "      <td>2</td>\n",
       "      <td>January</td>\n",
       "      <td>1</td>\n",
       "      <td>5</td>\n",
       "      <td>0</td>\n",
       "      <td>HIPSTER_COFFEE_SHOP</td>\n",
       "      <td>1</td>\n",
       "      <td>False</td>\n",
       "      <td>1</td>\n",
       "      <td>2025</td>\n",
       "    </tr>\n",
       "    <tr>\n",
       "      <th>4</th>\n",
       "      <td>80792</td>\n",
       "      <td>1.95</td>\n",
       "      <td>18555</td>\n",
       "      <td>2025-01-01</td>\n",
       "      <td>01/01/2025</td>\n",
       "      <td>2</td>\n",
       "      <td>January</td>\n",
       "      <td>1</td>\n",
       "      <td>5</td>\n",
       "      <td>18555</td>\n",
       "      <td>nan</td>\n",
       "      <td>5</td>\n",
       "      <td>False</td>\n",
       "      <td>1</td>\n",
       "      <td>2025</td>\n",
       "    </tr>\n",
       "    <tr>\n",
       "      <th>...</th>\n",
       "      <td>...</td>\n",
       "      <td>...</td>\n",
       "      <td>...</td>\n",
       "      <td>...</td>\n",
       "      <td>...</td>\n",
       "      <td>...</td>\n",
       "      <td>...</td>\n",
       "      <td>...</td>\n",
       "      <td>...</td>\n",
       "      <td>...</td>\n",
       "      <td>...</td>\n",
       "      <td>...</td>\n",
       "      <td>...</td>\n",
       "      <td>...</td>\n",
       "      <td>...</td>\n",
       "    </tr>\n",
       "    <tr>\n",
       "      <th>10148275</th>\n",
       "      <td>32185</td>\n",
       "      <td>2.65</td>\n",
       "      <td>COFFEE_SHOP</td>\n",
       "      <td>2025-12-31</td>\n",
       "      <td>12/31/2025</td>\n",
       "      <td>2</td>\n",
       "      <td>December</td>\n",
       "      <td>5</td>\n",
       "      <td>5</td>\n",
       "      <td>0</td>\n",
       "      <td>COFFEE_SHOP</td>\n",
       "      <td>1</td>\n",
       "      <td>False</td>\n",
       "      <td>12</td>\n",
       "      <td>2025</td>\n",
       "    </tr>\n",
       "    <tr>\n",
       "      <th>10148276</th>\n",
       "      <td>32185</td>\n",
       "      <td>2.45</td>\n",
       "      <td>COFFEE_SHOP</td>\n",
       "      <td>2025-12-31</td>\n",
       "      <td>12/31/2025</td>\n",
       "      <td>2</td>\n",
       "      <td>December</td>\n",
       "      <td>5</td>\n",
       "      <td>5</td>\n",
       "      <td>0</td>\n",
       "      <td>COFFEE_SHOP</td>\n",
       "      <td>1</td>\n",
       "      <td>False</td>\n",
       "      <td>12</td>\n",
       "      <td>2025</td>\n",
       "    </tr>\n",
       "    <tr>\n",
       "      <th>10148277</th>\n",
       "      <td>57569</td>\n",
       "      <td>14.00</td>\n",
       "      <td>WINE_BAR</td>\n",
       "      <td>2025-12-31</td>\n",
       "      <td>12/31/2025</td>\n",
       "      <td>2</td>\n",
       "      <td>December</td>\n",
       "      <td>5</td>\n",
       "      <td>5</td>\n",
       "      <td>0</td>\n",
       "      <td>WINE_BAR</td>\n",
       "      <td>1</td>\n",
       "      <td>False</td>\n",
       "      <td>12</td>\n",
       "      <td>2025</td>\n",
       "    </tr>\n",
       "    <tr>\n",
       "      <th>10148278</th>\n",
       "      <td>1490</td>\n",
       "      <td>9.00</td>\n",
       "      <td>57569</td>\n",
       "      <td>2025-12-31</td>\n",
       "      <td>12/31/2025</td>\n",
       "      <td>2</td>\n",
       "      <td>December</td>\n",
       "      <td>5</td>\n",
       "      <td>4</td>\n",
       "      <td>57569</td>\n",
       "      <td>nan</td>\n",
       "      <td>5</td>\n",
       "      <td>False</td>\n",
       "      <td>12</td>\n",
       "      <td>2025</td>\n",
       "    </tr>\n",
       "    <tr>\n",
       "      <th>10148279</th>\n",
       "      <td>53444</td>\n",
       "      <td>2.65</td>\n",
       "      <td>A_LOCAL_COFFEE_SHOP</td>\n",
       "      <td>2025-12-31</td>\n",
       "      <td>12/31/2025</td>\n",
       "      <td>2</td>\n",
       "      <td>December</td>\n",
       "      <td>5</td>\n",
       "      <td>5</td>\n",
       "      <td>0</td>\n",
       "      <td>A_LOCAL_COFFEE_SHOP</td>\n",
       "      <td>1</td>\n",
       "      <td>False</td>\n",
       "      <td>12</td>\n",
       "      <td>2025</td>\n",
       "    </tr>\n",
       "  </tbody>\n",
       "</table>\n",
       "<p>10148280 rows × 15 columns</p>\n",
       "</div>"
      ],
      "text/plain": [
       "          Sender_Account_Num  Amount             Receiver Transaction_date  \\\n",
       "0                      10371    4.00               CINEMA       2025-01-01   \n",
       "1                      88339    2.40                40544       2025-01-01   \n",
       "2                      18555    2.40                85149       2025-01-01   \n",
       "3                      18555    4.10  HIPSTER_COFFEE_SHOP       2025-01-01   \n",
       "4                      80792    1.95                18555       2025-01-01   \n",
       "...                      ...     ...                  ...              ...   \n",
       "10148275               32185    2.65          COFFEE_SHOP       2025-12-31   \n",
       "10148276               32185    2.45          COFFEE_SHOP       2025-12-31   \n",
       "10148277               57569   14.00             WINE_BAR       2025-12-31   \n",
       "10148278                1490    9.00                57569       2025-12-31   \n",
       "10148279               53444    2.65  A_LOCAL_COFFEE_SHOP       2025-12-31   \n",
       "\n",
       "         Transaction_Date  Day_of_Week     Month  Week_of_Month  \\\n",
       "0              01/01/2025            2   January              1   \n",
       "1              01/01/2025            2   January              1   \n",
       "2              01/01/2025            2   January              1   \n",
       "3              01/01/2025            2   January              1   \n",
       "4              01/01/2025            2   January              1   \n",
       "...                   ...          ...       ...            ...   \n",
       "10148275       12/31/2025            2  December              5   \n",
       "10148276       12/31/2025            2  December              5   \n",
       "10148277       12/31/2025            2  December              5   \n",
       "10148278       12/31/2025            2  December              5   \n",
       "10148279       12/31/2025            2  December              5   \n",
       "\n",
       "          Sender_Account_Num_Length  Receiver_Account_Num  \\\n",
       "0                                 5                     0   \n",
       "1                                 5                 40544   \n",
       "2                                 5                 85149   \n",
       "3                                 5                     0   \n",
       "4                                 5                 18555   \n",
       "...                             ...                   ...   \n",
       "10148275                          5                     0   \n",
       "10148276                          5                     0   \n",
       "10148277                          5                     0   \n",
       "10148278                          4                 57569   \n",
       "10148279                          5                     0   \n",
       "\n",
       "                Receiver_Name  Receiver_Account_Num_Length  is_duplicate  \\\n",
       "0                      CINEMA                            1         False   \n",
       "1                         nan                            5         False   \n",
       "2                         nan                            5         False   \n",
       "3         HIPSTER_COFFEE_SHOP                            1         False   \n",
       "4                         nan                            5         False   \n",
       "...                       ...                          ...           ...   \n",
       "10148275          COFFEE_SHOP                            1         False   \n",
       "10148276          COFFEE_SHOP                            1         False   \n",
       "10148277             WINE_BAR                            1         False   \n",
       "10148278                  nan                            5         False   \n",
       "10148279  A_LOCAL_COFFEE_SHOP                            1         False   \n",
       "\n",
       "          Transaction_Month  Transaction_Year  \n",
       "0                         1              2025  \n",
       "1                         1              2025  \n",
       "2                         1              2025  \n",
       "3                         1              2025  \n",
       "4                         1              2025  \n",
       "...                     ...               ...  \n",
       "10148275                 12              2025  \n",
       "10148276                 12              2025  \n",
       "10148277                 12              2025  \n",
       "10148278                 12              2025  \n",
       "10148279                 12              2025  \n",
       "\n",
       "[10148280 rows x 15 columns]"
      ]
     },
     "execution_count": 99,
     "metadata": {},
     "output_type": "execute_result"
    }
   ],
   "source": [
    "data['Transaction_Month'] = data['Transaction_date'].dt.month\n",
    "data['Transaction_Year'] = data['Transaction_date'].dt.year\n",
    "data"
   ]
  },
  {
   "cell_type": "markdown",
   "id": "da371472-536c-4755-8218-c76bd58bdd4c",
   "metadata": {},
   "source": [
    "# TRANSACTION PATTERN ANALYSIS"
   ]
  },
  {
   "cell_type": "code",
   "execution_count": 100,
   "id": "69c53620-7d9a-44cd-bede-23811cdff0a7",
   "metadata": {},
   "outputs": [],
   "source": [
    "import pandas as pd\n",
    "from datetime import datetime\n",
    "\n",
    "# Dictionary mapping\n",
    "day_mapping = {\n",
    "    0: 'Monday',\n",
    "    1: 'Tuesday',\n",
    "    2: 'Wednesday',\n",
    "    3: 'Thursday',\n",
    "    4: 'Friday',\n",
    "    5: 'Saturday',\n",
    "    6: 'Sunday'\n",
    "}\n",
    "\n",
    "# Mapping integer representation to day names\n",
    "data['Day_of_Week'] = data['Day_of_Week'].map(day_mapping)"
   ]
  },
  {
   "cell_type": "code",
   "execution_count": 101,
   "id": "af954019-b82b-4946-b0f3-cbc6e3a17e2c",
   "metadata": {},
   "outputs": [
    {
     "name": "stdout",
     "output_type": "stream",
     "text": [
      "['Wednesday' 'Thursday' 'Friday' 'Saturday' 'Sunday' 'Monday' 'Tuesday']\n"
     ]
    }
   ],
   "source": [
    "data\n",
    "\n",
    "day = data['Day_of_Week'].unique()\n",
    "print(day)"
   ]
  },
  {
   "cell_type": "code",
   "execution_count": 102,
   "id": "5a39fbe7-8793-42d0-b772-5dfbc08eb319",
   "metadata": {},
   "outputs": [
    {
     "name": "stdout",
     "output_type": "stream",
     "text": [
      "Transaction patterns by day of the week:\n",
      "               count          sum       mean\n",
      "Day_of_Week                                 \n",
      "Friday       2402198  35694018.95  14.858900\n",
      "Monday        895964  19916790.94  22.229454\n",
      "Saturday     2080948  35571394.97  17.093841\n",
      "Sunday       2073671  35553515.30  17.145205\n",
      "Thursday      888190  19843699.49  22.341728\n",
      "Tuesday       895174  19979303.02  22.318905\n",
      "Wednesday     912135  20103512.82  22.040063\n"
     ]
    }
   ],
   "source": [
    "# Transaction patterns by day of the week\n",
    "day_of_week_patterns = data.groupby('Day_of_Week')['Amount'].agg(['count', 'sum', 'mean'])\n",
    "print(\"Transaction patterns by day of the week:\")\n",
    "print(day_of_week_patterns)\n",
    "\n"
   ]
  },
  {
   "cell_type": "code",
   "execution_count": 103,
   "id": "700da0b8-64f3-4fee-9e11-0ee5781abf07",
   "metadata": {},
   "outputs": [
    {
     "data": {
      "image/png": "[encoded data removed]",
      "text/plain": [
       "<Figure size 1000x600 with 1 Axes>"
      ]
     },
     "metadata": {},
     "output_type": "display_data"
    }
   ],
   "source": [
    "# Visualize transaction patterns by day of the week\n",
    "plt.figure(figsize=(10, 6))\n",
    "sns.barplot(x=day_of_week_patterns.index, y='count', data=day_of_week_patterns, palette='viridis')\n",
    "plt.xlabel('Day of the Week')\n",
    "plt.ylabel('Number of Transactions')\n",
    "plt.title('Transaction Count by Day of the Week')\n",
    "plt.show()"
   ]
  },
  {
   "cell_type": "code",
   "execution_count": 104,
   "id": "fb8c1f2f-fd3d-49b5-9d0c-014d6a45a181",
   "metadata": {},
   "outputs": [
    {
     "name": "stdout",
     "output_type": "stream",
     "text": [
      "\n",
      "Transaction patterns by month:\n",
      "            count          sum       mean\n",
      "Month                                    \n",
      "April      812316  14981481.00  18.442922\n",
      "August     856063  15391387.82  17.979270\n",
      "December   911468  18256984.89  20.030308\n",
      "February   776515  14645381.97  18.860398\n",
      "January    854543  15356512.85  17.970439\n",
      "July       828389  15181448.00  18.326472\n",
      "June       832451  15252728.86  18.322675\n",
      "March      871002  15746678.39  18.078809\n",
      "May        881706  15835541.72  17.960116\n",
      "November   854100  15538928.68  18.193336\n",
      "October    858586  15514159.54  18.069430\n",
      "September  811141  14961001.77  18.444391\n"
     ]
    }
   ],
   "source": [
    "# Transaction patterns by month\n",
    "month_patterns = data.groupby('Month')['Amount'].agg(['count', 'sum', 'mean'])\n",
    "print(\"\\nTransaction patterns by month:\")\n",
    "print(month_patterns)\n",
    "\n"
   ]
  },
  {
   "cell_type": "code",
   "execution_count": 105,
   "id": "f25bddd9-713e-471d-bc85-1c5ccecd9b70",
   "metadata": {},
   "outputs": [
    {
     "data": {
      "image/png": "[encoded data removed]",
      "text/plain": [
       "<Figure size 1000x600 with 1 Axes>"
      ]
     },
     "metadata": {},
     "output_type": "display_data"
    }
   ],
   "source": [
    "# Visualize transaction patterns by month\n",
    "plt.figure(figsize=(10, 6))\n",
    "sns.lineplot(x=month_patterns.index, y='sum', data=month_patterns, marker='o', palette='viridis')\n",
    "plt.xlabel('Month')\n",
    "plt.ylabel('Total Transaction Amount')\n",
    "plt.title('Total Transaction Amount by Month')\n",
    "plt.show()"
   ]
  },
  {
   "cell_type": "code",
   "execution_count": 106,
   "id": "829241f1-ebca-4100-8a16-65148ba05cb3",
   "metadata": {},
   "outputs": [
    {
     "name": "stdout",
     "output_type": "stream",
     "text": [
      "\n",
      "Transaction patterns by week of the month:\n",
      "                 count          sum       mean\n",
      "Week_of_Month                                 \n",
      "1              2020533  37957639.10  18.785954\n",
      "2              2356529  44832046.14  19.024610\n",
      "3              2357358  45114969.99  19.137937\n",
      "4              2277104  43087690.60  18.922144\n",
      "5              1136756  15669889.66  13.784743\n"
     ]
    }
   ],
   "source": [
    "# Transaction patterns by week of the month\n",
    "week_of_month_patterns = data.groupby('Week_of_Month')['Amount'].agg(['count', 'sum', 'mean'])\n",
    "print(\"\\nTransaction patterns by week of the month:\")\n",
    "print(week_of_month_patterns)\n",
    "\n"
   ]
  },
  {
   "cell_type": "code",
   "execution_count": 107,
   "id": "d01cf969-4346-4a15-9971-be6a0500b920",
   "metadata": {},
   "outputs": [
    {
     "data": {
      "image/png": "[encoded data removed]",
      "text/plain": [
       "<Figure size 1000x600 with 1 Axes>"
      ]
     },
     "metadata": {},
     "output_type": "display_data"
    }
   ],
   "source": [
    "# Visualize transaction patterns by week of the month\n",
    "plt.figure(figsize=(10, 6))\n",
    "sns.barplot(x=week_of_month_patterns.index, y='sum', data=week_of_month_patterns, palette='viridis')\n",
    "plt.xlabel('Week of the Month')\n",
    "plt.ylabel('Total Transaction Amount')\n",
    "plt.title('Total Transaction Amount by Week of the Month')\n",
    "plt.show()"
   ]
  },
  {
   "cell_type": "code",
   "execution_count": 108,
   "id": "de3a2860-7722-484f-87da-1b9f6256c3d4",
   "metadata": {},
   "outputs": [
    {
     "name": "stdout",
     "output_type": "stream",
     "text": [
      "\n",
      "Transaction patterns by sender-receiver account pairs:\n",
      "               count      sum         mean\n",
      "(1000, 16354)     55    315.4     5.734545\n",
      "(1000, 18013)     14     86.5     6.178571\n",
      "(1000, 30208)      6     35.0     5.833333\n",
      "(1000, 31489)     12  16130.0  1344.166667\n",
      "(1000, 36647)      1      5.0     5.000000\n"
     ]
    }
   ],
   "source": [
    "# Transaction patterns by sender-receiver account pairs\n",
    "account_pairs = data[['Sender_Account_Num', 'Receiver']].apply(tuple, axis=1)\n",
    "account_pair_patterns = data.groupby(account_pairs)['Amount'].agg(['count', 'sum', 'mean'])\n",
    "print(\"\\nTransaction patterns by sender-receiver account pairs:\")\n",
    "print(account_pair_patterns.head())\n"
   ]
  },
  {
   "cell_type": "code",
   "execution_count": 109,
   "id": "b1490f67-3b93-4769-85e0-fd79361123c4",
   "metadata": {},
   "outputs": [
    {
     "name": "stdout",
     "output_type": "stream",
     "text": [
      "\n",
      "Transaction amount distribution:\n",
      "count    1.014828e+07\n",
      "mean     1.839348e+01\n",
      "std      8.612323e+01\n",
      "min      1.450000e+00\n",
      "25%      2.650000e+00\n",
      "50%      6.000000e+00\n",
      "75%      1.200000e+01\n",
      "max      1.995000e+03\n",
      "Name: Amount, dtype: float64\n"
     ]
    }
   ],
   "source": [
    "# Transaction amount distribution\n",
    "print(\"\\nTransaction amount distribution:\")\n",
    "print(data['Amount'].describe())"
   ]
  },
  {
   "cell_type": "code",
   "execution_count": 110,
   "id": "0357d9b9-dc07-4065-ae22-9bd7f55a6f36",
   "metadata": {},
   "outputs": [
    {
     "data": {
      "image/png": "[encoded data removed]",
      "text/plain": [
       "<Figure size 800x600 with 1 Axes>"
      ]
     },
     "metadata": {},
     "output_type": "display_data"
    }
   ],
   "source": [
    "# Visualize transaction amount distribution\n",
    "plt.figure(figsize=(8, 6))\n",
    "sns.histplot(data['Amount'], kde=True, bins=30)\n",
    "plt.xlabel('Transaction Amount')\n",
    "plt.ylabel('Count')\n",
    "plt.title('Distribution of Transaction Amounts')\n",
    "plt.show()"
   ]
  },
  {
   "cell_type": "markdown",
   "id": "f06c4a06-b81d-468d-935b-99c0050d5f89",
   "metadata": {},
   "source": [
    "#### SEPARATE INFLOW, OUTFLOW TABLES FOR ACCOUNTS AND BUSINESSES"
   ]
  },
  {
   "cell_type": "code",
   "execution_count": 184,
   "id": "59b1dc51-7144-4615-8a7e-b93338ca9355",
   "metadata": {},
   "outputs": [],
   "source": [
    "inflow_account = data[[ 'Transaction_date', 'Receiver_Account_Num','Amount']]\n",
    "inflow_account = inflow_account[inflow_account['Receiver_Account_Num'] != 0]\n",
    "\n",
    "inflow_business = data[[ 'Transaction_date', 'Receiver_Name','Amount']]\n",
    "inflow_business = inflow_business.dropna(subset=['Receiver_Name'])\n",
    "\n",
    "outflow = data[[ 'Transaction_date', 'Sender_Account_Num','Amount']]"
   ]
  },
  {
   "cell_type": "markdown",
   "id": "ade431f0-1242-4649-a2c8-31b255da92e4",
   "metadata": {},
   "source": [
    "# CUSTOMER SEGMENTATION - RFM"
   ]
  },
  {
   "cell_type": "code",
   "execution_count": 111,
   "id": "66b3f53c-5767-4950-a6d8-2916979fce94",
   "metadata": {},
   "outputs": [
    {
     "name": "stdout",
     "output_type": "stream",
     "text": [
      "RFM Data:\n",
      "      Sender_Account_Num  Recency  Frequency  Monetary\n",
      "0                   1000        1       1710  28698.51\n",
      "1                   1002        1       1043  15622.97\n",
      "2                   1006        1       1841  18778.19\n",
      "3                   1018        2        805  15612.21\n",
      "4                   1053        1       1319  19444.57\n",
      "...                  ...      ...        ...       ...\n",
      "8137              100931        1       1664  22332.81\n",
      "8138              100934        2       1111  18579.25\n",
      "8139              100947        1       1586  20783.20\n",
      "8140              100986        1       1034  15314.23\n",
      "8141              100988        1       1351  19714.77\n",
      "\n",
      "[8142 rows x 4 columns]\n"
     ]
    }
   ],
   "source": [
    "# import pandas as pd\n",
    "\n",
    "# # January 1, 2026, as the current date for calculating Recency\n",
    "# current_date = pd.Timestamp('2026-01-01')\n",
    "\n",
    "# # Group by 'Sender_Account_Num' and find the maximum transaction date for each sender\n",
    "# max_transaction_dates = data.groupby('Sender_Account_Num')['Transaction_date'].max().reset_index()\n",
    "\n",
    "# # Calculate Recency for each sender\n",
    "# max_transaction_dates['Recency'] = (current_date - max_transaction_dates['Transaction_date']).dt.days\n",
    "\n",
    "# # Calculate Frequency\n",
    "# frequency_data = data.groupby('Sender_Account_Num')['Transaction_date'].count().reset_index()\n",
    "# frequency_data.columns = ['Sender_Account_Num', 'Frequency']\n",
    "\n",
    "# # Calculate Monetary\n",
    "# monetary_data = data.groupby('Sender_Account_Num')['Amount'].sum().reset_index()\n",
    "# monetary_data.columns = ['Sender_Account_Num', 'Monetary']\n",
    "\n",
    "# # Merge Recency, Frequency, and Monetary data into a single DataFrame\n",
    "# rfm_data = pd.merge(max_transaction_dates[['Sender_Account_Num', 'Recency']], frequency_data, on='Sender_Account_Num')\n",
    "# rfm_data = pd.merge(rfm_data, monetary_data, on='Sender_Account_Num')\n",
    "\n",
    "# print(\"RFM Data:\")\n",
    "# print(rfm_data)\n",
    "\n"
   ]
  },
  {
   "cell_type": "code",
   "execution_count": 112,
   "id": "a2a83cf6-57bb-46e3-98b1-cd110086da14",
   "metadata": {},
   "outputs": [],
   "source": [
    "# # Calculate RFM scores\n",
    "# rfm_data['R_score'] = pd.qcut(rfm_data['Recency'], q=3, labels=False, duplicates='drop') + 1\n",
    "# rfm_data['F_score'] = pd.qcut(rfm_data['Frequency'], q=3, labels=False, duplicates='drop') + 1\n",
    "# rfm_data['M_score'] = pd.qcut(rfm_data['Monetary'], q=3, labels=False, duplicates='drop') + 1\n",
    "\n",
    "# # Combine RFM scores into RFM score\n",
    "# rfm_data['RFM_score'] = rfm_data['R_score'] * 100 + rfm_data['F_score'] * 10 + rfm_data['M_score']\n",
    "\n",
    "\n",
    "# # # Assuming entire available data period as the time period\n",
    "# # time_period = 1  # Simplified assumption of 1 time period\n",
    "# # ltv = total_revenue * retention_rate / time_period"
   ]
  },
  {
   "cell_type": "code",
   "execution_count": 113,
   "id": "86055f40-0117-46f0-8b7f-eafe6fa1c790",
   "metadata": {},
   "outputs": [
    {
     "data": {
      "text/plain": [
       "array([1, 2, 5, 3, 4])"
      ]
     },
     "execution_count": 113,
     "metadata": {},
     "output_type": "execute_result"
    }
   ],
   "source": [
    "# rfm_data['Recency'].unique()"
   ]
  },
  {
   "cell_type": "code",
   "execution_count": 114,
   "id": "19c34df1-978d-4219-9e45-8291ab012c39",
   "metadata": {},
   "outputs": [],
   "source": [
    "# # Define customer segmentation based on RFM and LTV\n",
    "# def segment_customers(row):\n",
    "#     if row['RFM_score'] >= 142:\n",
    "#         return 'High Value'\n",
    "#     elif row['RFM_score'] >= 133:\n",
    "#         return 'Medium Value'\n",
    "#     else:\n",
    "#         return 'Low Value'\n"
   ]
  },
  {
   "cell_type": "code",
   "execution_count": 115,
   "id": "8df105cf-af5e-4764-97cf-ce51681ffdde",
   "metadata": {},
   "outputs": [],
   "source": [
    "# # Apply segmentation function to create a new column 'Segment'\n",
    "# result_df['Segment'] = result_df.apply(segment_customers, axis=1)\n",
    "\n",
    "# # Display the DataFrame with RFM scores, LTV, and segmentation\n",
    "# result_df"
   ]
  },
  {
   "cell_type": "code",
   "execution_count": 116,
   "id": "09554054-9b05-4592-884a-48993804e486",
   "metadata": {},
   "outputs": [],
   "source": [
    "# print(result_df['RFM_score'].unique())"
   ]
  },
  {
   "cell_type": "code",
   "execution_count": 117,
   "id": "11131dbd-4363-4991-aa0f-a118b0b9654f",
   "metadata": {},
   "outputs": [],
   "source": [
    "# # Define thresholds for each RFM component\n",
    "# recency_thresholds = {'high': range(1, 3), 'mid': range(3, 5), 'low': range(5, 9)}\n",
    "# frequency_thresholds = {'high': range(4, 5), 'mid': range(2, 4), 'low': range(1, 2)}\n",
    "# monetary_thresholds = {'high': range(4, 5), 'mid': range(2, 4), 'low': range(1, 2)}\n",
    "\n",
    "# # Define function to categorize RFM scores into segments\n",
    "# def categorize_rfm(recency, frequency, monetary):\n",
    "#     recency_segment = next(segment for segment, threshold_range in recency_thresholds.items() if recency in threshold_range)\n",
    "#     frequency_segment = next(segment for segment, threshold_range in frequency_thresholds.items() if frequency in threshold_range)\n",
    "#     monetary_segment = next(segment for segment, threshold_range in monetary_thresholds.items() if monetary in threshold_range)\n",
    "#     return f\"{recency_segment}-{frequency_segment}-{monetary_segment}\"\n",
    "\n",
    "# # Example RFM scores\n",
    "# rfm_scores = ['111', '112', '113', '114', '121', '122', '123', '124', '131', '132', '133', '134', '141', '142', '143', '144']\n",
    "\n",
    "# # Categorize RFM scores into segments\n",
    "# segmented_customers = {rfm_score: categorize_rfm(int(rfm_score[0]), int(rfm_score[1]), int(rfm_score[2])) for rfm_score in rfm_scores}\n",
    "\n",
    "# # Print segmented customers\n",
    "# for rfm_score, segment in segmented_customers.items():\n",
    "#     print(f\"RFM Score: {rfm_score} -> Segment: {segment}\")\n"
   ]
  },
  {
   "cell_type": "code",
   "execution_count": 118,
   "id": "d4b48fe7-1cf9-4e80-855e-2d9fd2247d32",
   "metadata": {},
   "outputs": [],
   "source": [
    "# print(result_df['Segment'].unique())"
   ]
  },
  {
   "cell_type": "code",
   "execution_count": 119,
   "id": "0f94d38a-5e86-499f-8b3d-2dc40049949d",
   "metadata": {},
   "outputs": [],
   "source": [
    "# total_unique_senders = data['Sender_Account_Num'].nunique()\n",
    "\n",
    "# print(\"Total unique sender accounts:\", total_unique_senders)"
   ]
  },
  {
   "cell_type": "code",
   "execution_count": 120,
   "id": "d34fbd85-7169-411e-8b24-511bcc28c0ad",
   "metadata": {},
   "outputs": [],
   "source": [
    "# sender_counts_by_segment = result_df.groupby('Segment')['Sender_Account_Num'].nunique()\n",
    "\n",
    "# print(\"Number of sender accounts in each segment:\")\n",
    "# print(sender_counts_by_segment)"
   ]
  },
  {
   "cell_type": "code",
   "execution_count": 121,
   "id": "3c901bfb-1b41-46b7-a30d-dc6dab82500e",
   "metadata": {},
   "outputs": [],
   "source": [
    "# result_df"
   ]
  },
  {
   "cell_type": "markdown",
   "id": "a69b64fe-3266-4f14-b2ab-99a299ca6525",
   "metadata": {},
   "source": [
    "# k means on rfm"
   ]
  },
  {
   "cell_type": "code",
   "execution_count": 122,
   "id": "3d532991-019c-4bf1-9016-ab1618ab03d3",
   "metadata": {},
   "outputs": [],
   "source": [
    "# from sklearn.cluster import KMeans\n",
    "# import matplotlib.pyplot as plt\n",
    "\n",
    "# # Select features for segmentation (Recency, Frequency, Monetary)\n",
    "# rfm_data_subset = rfm_data[['Recency', 'Frequency', 'Monetary']]\n",
    "\n",
    "# # Standardize the data\n",
    "# rfm_data_scaled = (rfm_data_subset - rfm_data_subset.mean()) / rfm_data_subset.std()\n",
    "\n",
    "# # Determine the optimal number of clusters using the elbow method\n",
    "# wcss = []\n",
    "# for i in range(1, 11):\n",
    "#     kmeans = KMeans(n_clusters=i, init='k-means++', random_state=42)\n",
    "#     kmeans.fit(rfm_data_scaled)\n",
    "#     wcss.append(kmeans.inertia_)\n",
    "\n",
    "# # Plot the elbow method graph\n",
    "# plt.plot(range(1, 11), wcss)\n",
    "# plt.title('Elbow Method')\n",
    "# plt.xlabel('Number of Clusters')\n",
    "# plt.ylabel('WCSS')\n",
    "# plt.show()\n"
   ]
  },
  {
   "cell_type": "code",
   "execution_count": 123,
   "id": "3fe11e4a-4454-4fb7-8551-ae20b7f8a56f",
   "metadata": {},
   "outputs": [],
   "source": [
    "# # Based on the elbow method, choose the number of clusters (e.g., 3)\n",
    "# n_clusters = 3\n",
    "\n",
    "# # Perform k-means clustering\n",
    "# kmeans = KMeans(n_clusters=n_clusters, init='k-means++', random_state=42)\n",
    "# rfm_data['Segment'] = kmeans.fit_predict(rfm_data_scaled)\n",
    "\n",
    "# # Visualize the clusters\n",
    "# fig, ax = plt.subplots(1, 3, figsize=(18, 6))\n",
    "# for i, feature in enumerate(['Recency', 'Frequency', 'Monetary']):\n",
    "#     ax[i].scatter(rfm_data[feature], rfm_data['Segment'], c=rfm_data['Segment'], cmap='viridis', alpha=0.7)\n",
    "#     ax[i].set_xlabel(feature)\n",
    "#     ax[i].set_ylabel('Segment')\n",
    "#     ax[i].set_title(f'Segmentation based on {feature}')\n",
    "# plt.tight_layout()\n",
    "# plt.show()"
   ]
  },
  {
   "cell_type": "code",
   "execution_count": 124,
   "id": "eaf9cc5f-2ea6-4a52-b920-abb1e142a642",
   "metadata": {},
   "outputs": [],
   "source": [
    "# sender_counts_by_segment = rfm_data.groupby('Segment')['Sender_Account_Num'].nunique()\n",
    "\n",
    "# print(\"Number of sender accounts in each segment:\")\n",
    "# print(sender_counts_by_segment)"
   ]
  },
  {
   "cell_type": "code",
   "execution_count": 125,
   "id": "c721413e-867f-4e44-a822-81234994ee32",
   "metadata": {},
   "outputs": [],
   "source": [
    "# rfm_data"
   ]
  },
  {
   "cell_type": "code",
   "execution_count": 126,
   "id": "d4d8c72c-024d-4181-b0de-64c560ea1c29",
   "metadata": {},
   "outputs": [],
   "source": [
    "# recencycount = rfm_data['Recency'].value_counts().sort_index()\n",
    "\n",
    "# # Print the result\n",
    "# print(recencycount)"
   ]
  },
  {
   "cell_type": "code",
   "execution_count": 127,
   "id": "87b7ead2-6b7f-454b-b68d-661734eea969",
   "metadata": {},
   "outputs": [],
   "source": [
    "# import pandas as pd\n",
    "# from sklearn.cluster import KMeans\n",
    "# from sklearn.preprocessing import StandardScaler\n",
    "\n",
    "# # Data preprocessing\n",
    "# # Handle missing values, encode categorical variables, etc.\n",
    "\n",
    "# # RFM Feature Engineering\n",
    "# recency = pd.to_datetime(data['Transaction_date']).max() - pd.to_datetime(data['Transaction_date'])\n",
    "# frequency = data.groupby('Sender_Account_Num').size()\n",
    "# monetary = data.groupby('Sender_Account_Num')['Amount'].sum()\n",
    "\n",
    "# # Combine RFM features\n",
    "# rfm_df = pd.DataFrame({\n",
    "#     'Recency': recency,\n",
    "#     'Frequency': frequency,\n",
    "#     'Monetary': monetary\n",
    "# })\n",
    "\n",
    "# # Scale the features\n",
    "# scaler = StandardScaler()\n",
    "# rfm_scaled = scaler.fit_transform(rfm_df)\n",
    "\n",
    "# # K-means Clustering\n",
    "# # Determine optimal k\n",
    "# # Apply k-means\n",
    "# kmeans = KMeans(n_clusters=3, random_state=42)\n",
    "# data['Cluster'] = kmeans.fit_predict(rfm_scaled)\n",
    "\n",
    "# # Interpretation\n",
    "# cluster_centers = scaler.inverse_transform(kmeans.cluster_centers_)\n",
    "# cluster_df = pd.DataFrame(cluster_centers, columns=['Recency', 'Frequency', 'Monetary'])\n",
    "# print(cluster_df)\n"
   ]
  },
  {
   "cell_type": "code",
   "execution_count": 128,
   "id": "35777e83-9497-456e-b5ff-231e49f81117",
   "metadata": {},
   "outputs": [],
   "source": [
    "# import pandas as pd\n",
    "\n",
    "# # Assuming your DataFrame is named 'data'\n",
    "\n",
    "# # Sort the DataFrame by 'Sender_Account_Num' and 'Transaction_date' to ensure transactions are ordered properly\n",
    "# data.sort_values(by=['Sender_Account_Num', 'Transaction_date'], inplace=True)\n",
    "\n",
    "# # Calculate the time difference between consecutive transactions for each sender\n",
    "# data['Days_Between_Transactions'] = data.groupby('Sender_Account_Num')['Transaction_date'].diff().dt.days\n",
    "\n",
    "# # Calculate the average number of days between two transactions for each sender\n",
    "# average_days_between_transactions = data.groupby('Sender_Account_Num')['Days_Between_Transactions'].mean()\n",
    "\n",
    "# # Calculate frequency (number of transactions) for each sender\n",
    "# frequency = data.groupby('Sender_Account_Num').size()\n",
    "\n",
    "# # Calculate monetary value (total amount spent) for each sender\n",
    "# monetary_value = data.groupby('Sender_Account_Num')['Amount'].sum()\n",
    "\n",
    "# # Combine the calculated metrics into a DataFrame\n",
    "# rfm_data = pd.DataFrame({\n",
    "#     'Average_Days_Between_Transactions': average_days_between_transactions,\n",
    "#     'Frequency': frequency,\n",
    "#     'Monetary_Value': monetary_value\n",
    "# })\n",
    "\n",
    "# # Assign scores for recency, frequency, and monetary value (you can customize this part based on quartiles or thresholds)\n",
    "# rfm_data['Recency_Score'] = pd.qcut(rfm_data['Average_Days_Between_Transactions'], q=4, labels=False, duplicates='drop') + 1\n",
    "# rfm_data['Frequency_Score'] = pd.qcut(rfm_data['Frequency'], q=4, labels=False, duplicates='drop') + 1\n",
    "# rfm_data['Monetary_Value_Score'] = pd.qcut(rfm_data['Monetary_Value'], q=4, labels=False, duplicates='drop') + 1\n",
    "\n",
    "# # Combine the scores to create the RFM score for each sender\n",
    "# rfm_data['RFM_Score'] = rfm_data['Recency_Score'].astype(str) + rfm_data['Frequency_Score'].astype(str) + rfm_data['Monetary_Value_Score'].astype(str)\n",
    "\n"
   ]
  },
  {
   "cell_type": "code",
   "execution_count": 129,
   "id": "6e0ee746-84e6-4301-8abe-62d9a98c6d3d",
   "metadata": {},
   "outputs": [],
   "source": [
    "# rfm_data['RFM_Score'].unique()"
   ]
  },
  {
   "cell_type": "code",
   "execution_count": 130,
   "id": "1ab1d108-8ebd-4574-b401-1018084068a8",
   "metadata": {},
   "outputs": [],
   "source": [
    "# unique_rfm_scores = sorted(rfm_data['RFM_Score'].unique())\n",
    "\n",
    "# # Print unique RFM scores\n",
    "# print(unique_rfm_scores)"
   ]
  },
  {
   "cell_type": "code",
   "execution_count": 131,
   "id": "51b9e267-2018-4fbb-9b0e-d5628d5548f7",
   "metadata": {},
   "outputs": [],
   "source": [
    "# rfm_data"
   ]
  },
  {
   "cell_type": "code",
   "execution_count": 132,
   "id": "2070d7d3-92e7-4587-bd25-3e3bd080a0cb",
   "metadata": {},
   "outputs": [],
   "source": [
    "# data['Days_Between_Transactions'].unique()"
   ]
  },
  {
   "cell_type": "code",
   "execution_count": 133,
   "id": "bf717462-1379-45b3-a0c7-0d29fb53a36f",
   "metadata": {},
   "outputs": [],
   "source": [
    "# transactions_per_days = data['Days_Between_Transactions'].value_counts().sort_index()\n",
    "\n",
    "# # Print the result\n",
    "# print(transactions_per_days)"
   ]
  },
  {
   "cell_type": "code",
   "execution_count": null,
   "id": "11143c9e-0c46-4f52-bb21-36664031d932",
   "metadata": {},
   "outputs": [],
   "source": []
  },
  {
   "cell_type": "code",
   "execution_count": 134,
   "id": "ba2166a3-6ff0-45e4-875b-49612d636976",
   "metadata": {},
   "outputs": [],
   "source": [
    "# # Count the number of transactions for each customer\n",
    "# transaction_counts = data.groupby('Sender_Account_Num').size()\n",
    "\n",
    "# # Calculate the total monetary value for each customer\n",
    "# monetary_values = data.groupby('Sender_Account_Num')['Amount'].sum()\n",
    "\n",
    "\n",
    "# # Calculate percentiles for transaction frequency\n",
    "# low_frequency_percentile = data.groupby('Sender_Account_Num').size().quantile(0.25)\n",
    "# high_frequency_percentile = data.groupby('Sender_Account_Num').size().quantile(0.75)\n",
    "\n",
    "# # Calculate percentiles for monetary value\n",
    "# low_value_percentile = data.groupby('Sender_Account_Num')['Amount'].sum().quantile(0.25)\n",
    "# high_value_percentile = data.groupby('Sender_Account_Num')['Amount'].sum().quantile(0.75)\n",
    "\n",
    "# # Transaction Frequency Segmentation\n",
    "# data['Transaction_Frequency_Segment'] = pd.cut(transaction_counts,\n",
    "#                                                 bins=[0, low_frequency_percentile, high_frequency_percentile, float('inf')],\n",
    "#                                                 labels=['Low Frequency', 'Moderate Frequency', 'High Frequency'], right=False)\n",
    "\n",
    "# # Monetary Value Segmentation\n",
    "# data['Monetary_Value_Segment'] = pd.cut(monetary_values,\n",
    "#                                          bins=[-float('inf'), low_value_percentile, high_value_percentile, float('inf')],\n",
    "#                                          labels=['Low Value', 'Mid Value', 'High Value'], right=False)\n"
   ]
  },
  {
   "cell_type": "code",
   "execution_count": 135,
   "id": "dcc944eb-214f-491c-90ce-a86c792f644f",
   "metadata": {},
   "outputs": [],
   "source": [
    "# # Print the segments\n",
    "# print(\"Transaction Frequency Segments:\")\n",
    "# print(data['Transaction_Frequency_Segment'].value_counts())\n",
    "# print(\"\\nMonetary Value Segments:\")\n",
    "# print(data['Monetary_Value_Segment'].value_counts())"
   ]
  },
  {
   "cell_type": "code",
   "execution_count": 136,
   "id": "537dd083-3360-4c0d-92b1-5587139da3b3",
   "metadata": {},
   "outputs": [],
   "source": [
    "# data['Transaction_Frequency_Segment'].unique()"
   ]
  },
  {
   "cell_type": "code",
   "execution_count": 137,
   "id": "02a3b988-5294-41c9-9a37-59705554448f",
   "metadata": {},
   "outputs": [],
   "source": [
    "# rows_with_nan = data[data['Transaction_Frequency_Segment'].isna()]\n",
    "\n",
    "# # Print the rows\n",
    "# rows_with_nan"
   ]
  },
  {
   "cell_type": "code",
   "execution_count": 139,
   "id": "0e51e69f-3e54-488d-9a3f-a262c8cb4d72",
   "metadata": {},
   "outputs": [
    {
     "data": {
      "text/html": [
       "<div>\n",
       "<style scoped>\n",
       "    .dataframe tbody tr th:only-of-type {\n",
       "        vertical-align: middle;\n",
       "    }\n",
       "\n",
       "    .dataframe tbody tr th {\n",
       "        vertical-align: top;\n",
       "    }\n",
       "\n",
       "    .dataframe thead th {\n",
       "        text-align: right;\n",
       "    }\n",
       "</style>\n",
       "<table border=\"1\" class=\"dataframe\">\n",
       "  <thead>\n",
       "    <tr style=\"text-align: right;\">\n",
       "      <th></th>\n",
       "      <th>Sender_Account_Num</th>\n",
       "      <th>Amount</th>\n",
       "      <th>Receiver</th>\n",
       "      <th>Transaction_date</th>\n",
       "      <th>Transaction_Date</th>\n",
       "      <th>Day_of_Week</th>\n",
       "      <th>Month</th>\n",
       "      <th>Week_of_Month</th>\n",
       "      <th>Sender_Account_Num_Length</th>\n",
       "      <th>Receiver_Account_Num</th>\n",
       "      <th>Receiver_Name</th>\n",
       "      <th>Receiver_Account_Num_Length</th>\n",
       "      <th>is_duplicate</th>\n",
       "      <th>Transaction_Month</th>\n",
       "      <th>Transaction_Year</th>\n",
       "    </tr>\n",
       "  </thead>\n",
       "  <tbody>\n",
       "    <tr>\n",
       "      <th>0</th>\n",
       "      <td>10371</td>\n",
       "      <td>4.00</td>\n",
       "      <td>CINEMA</td>\n",
       "      <td>2025-01-01</td>\n",
       "      <td>01/01/2025</td>\n",
       "      <td>Wednesday</td>\n",
       "      <td>January</td>\n",
       "      <td>1</td>\n",
       "      <td>5</td>\n",
       "      <td>0</td>\n",
       "      <td>CINEMA</td>\n",
       "      <td>1</td>\n",
       "      <td>False</td>\n",
       "      <td>1</td>\n",
       "      <td>2025</td>\n",
       "    </tr>\n",
       "    <tr>\n",
       "      <th>1</th>\n",
       "      <td>88339</td>\n",
       "      <td>2.40</td>\n",
       "      <td>40544</td>\n",
       "      <td>2025-01-01</td>\n",
       "      <td>01/01/2025</td>\n",
       "      <td>Wednesday</td>\n",
       "      <td>January</td>\n",
       "      <td>1</td>\n",
       "      <td>5</td>\n",
       "      <td>40544</td>\n",
       "      <td>nan</td>\n",
       "      <td>5</td>\n",
       "      <td>False</td>\n",
       "      <td>1</td>\n",
       "      <td>2025</td>\n",
       "    </tr>\n",
       "    <tr>\n",
       "      <th>2</th>\n",
       "      <td>18555</td>\n",
       "      <td>2.40</td>\n",
       "      <td>85149</td>\n",
       "      <td>2025-01-01</td>\n",
       "      <td>01/01/2025</td>\n",
       "      <td>Wednesday</td>\n",
       "      <td>January</td>\n",
       "      <td>1</td>\n",
       "      <td>5</td>\n",
       "      <td>85149</td>\n",
       "      <td>nan</td>\n",
       "      <td>5</td>\n",
       "      <td>False</td>\n",
       "      <td>1</td>\n",
       "      <td>2025</td>\n",
       "    </tr>\n",
       "    <tr>\n",
       "      <th>3</th>\n",
       "      <td>18555</td>\n",
       "      <td>4.10</td>\n",
       "      <td>HIPSTER_COFFEE_SHOP</td>\n",
       "      <td>2025-01-01</td>\n",
       "      <td>01/01/2025</td>\n",
       "      <td>Wednesday</td>\n",
       "      <td>January</td>\n",
       "      <td>1</td>\n",
       "      <td>5</td>\n",
       "      <td>0</td>\n",
       "      <td>HIPSTER_COFFEE_SHOP</td>\n",
       "      <td>1</td>\n",
       "      <td>False</td>\n",
       "      <td>1</td>\n",
       "      <td>2025</td>\n",
       "    </tr>\n",
       "    <tr>\n",
       "      <th>4</th>\n",
       "      <td>80792</td>\n",
       "      <td>1.95</td>\n",
       "      <td>18555</td>\n",
       "      <td>2025-01-01</td>\n",
       "      <td>01/01/2025</td>\n",
       "      <td>Wednesday</td>\n",
       "      <td>January</td>\n",
       "      <td>1</td>\n",
       "      <td>5</td>\n",
       "      <td>18555</td>\n",
       "      <td>nan</td>\n",
       "      <td>5</td>\n",
       "      <td>False</td>\n",
       "      <td>1</td>\n",
       "      <td>2025</td>\n",
       "    </tr>\n",
       "    <tr>\n",
       "      <th>...</th>\n",
       "      <td>...</td>\n",
       "      <td>...</td>\n",
       "      <td>...</td>\n",
       "      <td>...</td>\n",
       "      <td>...</td>\n",
       "      <td>...</td>\n",
       "      <td>...</td>\n",
       "      <td>...</td>\n",
       "      <td>...</td>\n",
       "      <td>...</td>\n",
       "      <td>...</td>\n",
       "      <td>...</td>\n",
       "      <td>...</td>\n",
       "      <td>...</td>\n",
       "      <td>...</td>\n",
       "    </tr>\n",
       "    <tr>\n",
       "      <th>10148275</th>\n",
       "      <td>32185</td>\n",
       "      <td>2.65</td>\n",
       "      <td>COFFEE_SHOP</td>\n",
       "      <td>2025-12-31</td>\n",
       "      <td>12/31/2025</td>\n",
       "      <td>Wednesday</td>\n",
       "      <td>December</td>\n",
       "      <td>5</td>\n",
       "      <td>5</td>\n",
       "      <td>0</td>\n",
       "      <td>COFFEE_SHOP</td>\n",
       "      <td>1</td>\n",
       "      <td>False</td>\n",
       "      <td>12</td>\n",
       "      <td>2025</td>\n",
       "    </tr>\n",
       "    <tr>\n",
       "      <th>10148276</th>\n",
       "      <td>32185</td>\n",
       "      <td>2.45</td>\n",
       "      <td>COFFEE_SHOP</td>\n",
       "      <td>2025-12-31</td>\n",
       "      <td>12/31/2025</td>\n",
       "      <td>Wednesday</td>\n",
       "      <td>December</td>\n",
       "      <td>5</td>\n",
       "      <td>5</td>\n",
       "      <td>0</td>\n",
       "      <td>COFFEE_SHOP</td>\n",
       "      <td>1</td>\n",
       "      <td>False</td>\n",
       "      <td>12</td>\n",
       "      <td>2025</td>\n",
       "    </tr>\n",
       "    <tr>\n",
       "      <th>10148277</th>\n",
       "      <td>57569</td>\n",
       "      <td>14.00</td>\n",
       "      <td>WINE_BAR</td>\n",
       "      <td>2025-12-31</td>\n",
       "      <td>12/31/2025</td>\n",
       "      <td>Wednesday</td>\n",
       "      <td>December</td>\n",
       "      <td>5</td>\n",
       "      <td>5</td>\n",
       "      <td>0</td>\n",
       "      <td>WINE_BAR</td>\n",
       "      <td>1</td>\n",
       "      <td>False</td>\n",
       "      <td>12</td>\n",
       "      <td>2025</td>\n",
       "    </tr>\n",
       "    <tr>\n",
       "      <th>10148278</th>\n",
       "      <td>1490</td>\n",
       "      <td>9.00</td>\n",
       "      <td>57569</td>\n",
       "      <td>2025-12-31</td>\n",
       "      <td>12/31/2025</td>\n",
       "      <td>Wednesday</td>\n",
       "      <td>December</td>\n",
       "      <td>5</td>\n",
       "      <td>4</td>\n",
       "      <td>57569</td>\n",
       "      <td>nan</td>\n",
       "      <td>5</td>\n",
       "      <td>False</td>\n",
       "      <td>12</td>\n",
       "      <td>2025</td>\n",
       "    </tr>\n",
       "    <tr>\n",
       "      <th>10148279</th>\n",
       "      <td>53444</td>\n",
       "      <td>2.65</td>\n",
       "      <td>A_LOCAL_COFFEE_SHOP</td>\n",
       "      <td>2025-12-31</td>\n",
       "      <td>12/31/2025</td>\n",
       "      <td>Wednesday</td>\n",
       "      <td>December</td>\n",
       "      <td>5</td>\n",
       "      <td>5</td>\n",
       "      <td>0</td>\n",
       "      <td>A_LOCAL_COFFEE_SHOP</td>\n",
       "      <td>1</td>\n",
       "      <td>False</td>\n",
       "      <td>12</td>\n",
       "      <td>2025</td>\n",
       "    </tr>\n",
       "  </tbody>\n",
       "</table>\n",
       "<p>10148280 rows × 15 columns</p>\n",
       "</div>"
      ],
      "text/plain": [
       "          Sender_Account_Num  Amount             Receiver Transaction_date  \\\n",
       "0                      10371    4.00               CINEMA       2025-01-01   \n",
       "1                      88339    2.40                40544       2025-01-01   \n",
       "2                      18555    2.40                85149       2025-01-01   \n",
       "3                      18555    4.10  HIPSTER_COFFEE_SHOP       2025-01-01   \n",
       "4                      80792    1.95                18555       2025-01-01   \n",
       "...                      ...     ...                  ...              ...   \n",
       "10148275               32185    2.65          COFFEE_SHOP       2025-12-31   \n",
       "10148276               32185    2.45          COFFEE_SHOP       2025-12-31   \n",
       "10148277               57569   14.00             WINE_BAR       2025-12-31   \n",
       "10148278                1490    9.00                57569       2025-12-31   \n",
       "10148279               53444    2.65  A_LOCAL_COFFEE_SHOP       2025-12-31   \n",
       "\n",
       "         Transaction_Date Day_of_Week     Month  Week_of_Month  \\\n",
       "0              01/01/2025   Wednesday   January              1   \n",
       "1              01/01/2025   Wednesday   January              1   \n",
       "2              01/01/2025   Wednesday   January              1   \n",
       "3              01/01/2025   Wednesday   January              1   \n",
       "4              01/01/2025   Wednesday   January              1   \n",
       "...                   ...         ...       ...            ...   \n",
       "10148275       12/31/2025   Wednesday  December              5   \n",
       "10148276       12/31/2025   Wednesday  December              5   \n",
       "10148277       12/31/2025   Wednesday  December              5   \n",
       "10148278       12/31/2025   Wednesday  December              5   \n",
       "10148279       12/31/2025   Wednesday  December              5   \n",
       "\n",
       "          Sender_Account_Num_Length  Receiver_Account_Num  \\\n",
       "0                                 5                     0   \n",
       "1                                 5                 40544   \n",
       "2                                 5                 85149   \n",
       "3                                 5                     0   \n",
       "4                                 5                 18555   \n",
       "...                             ...                   ...   \n",
       "10148275                          5                     0   \n",
       "10148276                          5                     0   \n",
       "10148277                          5                     0   \n",
       "10148278                          4                 57569   \n",
       "10148279                          5                     0   \n",
       "\n",
       "                Receiver_Name  Receiver_Account_Num_Length  is_duplicate  \\\n",
       "0                      CINEMA                            1         False   \n",
       "1                         nan                            5         False   \n",
       "2                         nan                            5         False   \n",
       "3         HIPSTER_COFFEE_SHOP                            1         False   \n",
       "4                         nan                            5         False   \n",
       "...                       ...                          ...           ...   \n",
       "10148275          COFFEE_SHOP                            1         False   \n",
       "10148276          COFFEE_SHOP                            1         False   \n",
       "10148277             WINE_BAR                            1         False   \n",
       "10148278                  nan                            5         False   \n",
       "10148279  A_LOCAL_COFFEE_SHOP                            1         False   \n",
       "\n",
       "          Transaction_Month  Transaction_Year  \n",
       "0                         1              2025  \n",
       "1                         1              2025  \n",
       "2                         1              2025  \n",
       "3                         1              2025  \n",
       "4                         1              2025  \n",
       "...                     ...               ...  \n",
       "10148275                 12              2025  \n",
       "10148276                 12              2025  \n",
       "10148277                 12              2025  \n",
       "10148278                 12              2025  \n",
       "10148279                 12              2025  \n",
       "\n",
       "[10148280 rows x 15 columns]"
      ]
     },
     "execution_count": 139,
     "metadata": {},
     "output_type": "execute_result"
    }
   ],
   "source": [
    "data"
   ]
  },
  {
   "cell_type": "code",
   "execution_count": 144,
   "id": "be05fa91-d063-4ae7-8111-7d7e097fa129",
   "metadata": {},
   "outputs": [],
   "source": [
    "rfm_data = data.groupby('Sender_Account_Num').agg({\n",
    "    'Transaction_date': lambda x: (comparison_date - x.max()).days,\n",
    "    'Receiver': 'count',\n",
    "    'Amount': 'sum'\n",
    "}).reset_index()\n",
    "\n",
    "# Rename the columns for better understanding\n",
    "rfm_data.rename(columns={\n",
    "    'Transaction_date': 'Recency',\n",
    "    'Receiver': 'Frequency',\n",
    "    'Amount': 'Monetary'\n",
    "}, inplace=True)"
   ]
  },
  {
   "cell_type": "code",
   "execution_count": 146,
   "id": "20bc71b3-4b7d-4437-a48f-d6a3f5aee278",
   "metadata": {},
   "outputs": [
    {
     "data": {
      "text/plain": [
       "array([1, 2, 5, 3, 4])"
      ]
     },
     "execution_count": 146,
     "metadata": {},
     "output_type": "execute_result"
    }
   ],
   "source": [
    "rfm_data['Recency'].unique()"
   ]
  },
  {
   "cell_type": "markdown",
   "id": "d2c283a5-2675-4f42-89fa-c5a1944ae6ce",
   "metadata": {},
   "source": [
    "Once you have calculated the RFM scores for each customer, you can further analyze and segment the customers into different groups based on these scores. One common approach is to use quartiles to divide customers into segments:\n",
    "\n",
    "Calculate Quartiles: Calculate quartiles for each RFM score to divide customers into four equal-sized groups (quartiles).\n",
    "Assign RFM Scores: Assign a score of 1 to 4 to each customer based on which quartile they fall into for each RFM score (4 being the highest).\n",
    "Combine RFM Scores: Combine the three individual RFM scores into a single RFM score (e.g., 4-4-4 for the highest quartile in each category).\n",
    "Segment Customers: Segment customers into different groups based on their combined RFM scores.\n",
    "Analyze Customer Segments: Analyze the characteristics and behavior of each customer segment to identify key insights and develop targeted marketing strategies.\n"
   ]
  },
  {
   "cell_type": "code",
   "execution_count": 178,
   "id": "9a7dd790-20e8-495d-a8a1-77b75781198a",
   "metadata": {},
   "outputs": [],
   "source": [
    "# Assuming you have already calculated Recency, Frequency, and Monetary values\n",
    "\n",
    "# Define quartiles for RFM values\n",
    "quartiles = rfm_data[['Recency', 'Frequency', 'Monetary']].quantile([0.25, 0.5, 0.75])\n",
    "\n",
    "# Define functions to create RFM segments\n",
    "def rfm_segment(row):\n",
    "    if row['Recency'] <= quartiles['Recency'][0.25]:\n",
    "        return '4'\n",
    "    elif row['Recency'] <= quartiles['Recency'][0.50]:\n",
    "        return '3'\n",
    "    elif row['Recency'] <= quartiles['Recency'][0.75]:\n",
    "        return '2'\n",
    "    else:\n",
    "        return '1'\n",
    "\n",
    "def f_segment(row):\n",
    "    if row['Frequency'] <= quartiles['Frequency'][0.25]:\n",
    "        return '1'\n",
    "    elif row['Frequency'] <= quartiles['Frequency'][0.50]:\n",
    "        return '2'\n",
    "    elif row['Frequency'] <= quartiles['Frequency'][0.75]:\n",
    "        return '3'\n",
    "    else:\n",
    "        return '4'\n",
    "\n",
    "def m_segment(row):\n",
    "    if row['Monetary'] <= quartiles['Monetary'][0.25]:\n",
    "        return '1'\n",
    "    elif row['Monetary'] <= quartiles['Monetary'][0.50]:\n",
    "        return '2'\n",
    "    elif row['Monetary'] <= quartiles['Monetary'][0.75]:\n",
    "        return '3'\n",
    "    else:\n",
    "        return '4'\n",
    "\n",
    "# Apply segmentation functions\n",
    "rfm_data['R'] = rfm_data.apply(rfm_segment, axis=1)\n",
    "rfm_data['F'] = rfm_data.apply(f_segment, axis=1)\n",
    "rfm_data['M'] = rfm_data.apply(m_segment, axis=1)\n",
    "\n",
    "# Combine RFM scores into a single RFM score\n",
    "rfm_data['RFM_Score'] = rfm_data['R'].map(str) + rfm_data['F'].map(str) + rfm_data['M'].map(str)\n",
    "rfm_data['RFM_Score'] = rfm_data['RFM_Score'].astype(int)\n"
   ]
  },
  {
   "cell_type": "code",
   "execution_count": 179,
   "id": "9a8503a8-5381-4ee5-adac-35ecb370fab6",
   "metadata": {},
   "outputs": [
    {
     "name": "stdout",
     "output_type": "stream",
     "text": [
      "[111, 112, 113, 114, 121, 122, 123, 124, 131, 132, 133, 134, 141, 142, 143, 144, 411, 412, 413, 414, 421, 422, 423, 424, 431, 432, 433, 434, 441, 442, 443, 444]\n"
     ]
    }
   ],
   "source": [
    "r = rfm_data['RFM_Score'].unique()\n",
    "print(sorted(r))"
   ]
  },
  {
   "cell_type": "code",
   "execution_count": 199,
   "id": "53e73ace-d18c-42c7-bbfd-a8b465139a49",
   "metadata": {},
   "outputs": [],
   "source": [
    "# Assuming you have already calculated Recency, Frequency, and Monetary values\n",
    "\n",
    "# Define quartiles for RFM values\n",
    "unique_recency_values = rfm_data['Recency'].unique()\n",
    "# Create a new DataFrame with the unique recency values\n",
    "recency_df = pd.DataFrame({'Recency': unique_recency_values})\n",
    "\n",
    "\n",
    "quartiles = rfm_data[['Frequency', 'Monetary']].quantile([0.25, 0.5, 0.75])\n",
    "quartiles_R = recency_df[['Recency']].quantile([0.25, 0.5, 0.75])\n",
    "\n",
    "# Define functions to create RFM segments\n",
    "def rfm_segment(row):\n",
    "    if row['Recency'] <= quartiles_R['Recency'][0.25]:\n",
    "        return '4'\n",
    "    elif row['Recency'] <= quartiles_R['Recency'][0.50]:\n",
    "        return '3'\n",
    "    elif row['Recency'] <= quartiles_R['Recency'][0.75]:\n",
    "        return '2'\n",
    "    else:\n",
    "        return '1'\n",
    "\n",
    "def f_segment(row):\n",
    "    if row['Frequency'] <= quartiles['Frequency'][0.25]:\n",
    "        return '1'\n",
    "    elif row['Frequency'] <= quartiles['Frequency'][0.50]:\n",
    "        return '2'\n",
    "    elif row['Frequency'] <= quartiles['Frequency'][0.75]:\n",
    "        return '3'\n",
    "    else:\n",
    "        return '4'\n",
    "\n",
    "def m_segment(row):\n",
    "    if row['Monetary'] <= quartiles['Monetary'][0.25]:\n",
    "        return '1'\n",
    "    elif row['Monetary'] <= quartiles['Monetary'][0.50]:\n",
    "        return '2'\n",
    "    elif row['Monetary'] <= quartiles['Monetary'][0.75]:\n",
    "        return '3'\n",
    "    else:\n",
    "        return '4'\n",
    "\n",
    "# Apply segmentation functions\n",
    "rfm_data['R'] = rfm_data.apply(rfm_segment, axis=1)\n",
    "rfm_data['F'] = rfm_data.apply(f_segment, axis=1)\n",
    "rfm_data['M'] = rfm_data.apply(m_segment, axis=1)\n",
    "\n",
    "# Combine RFM scores into a single RFM score\n",
    "rfm_data['RFM_Score'] = rfm_data['R'].map(str) + rfm_data['F'].map(str) + rfm_data['M'].map(str)\n",
    "rfm_data['RFM_Score'] = rfm_data['RFM_Score'].astype(int)\n"
   ]
  },
  {
   "cell_type": "code",
   "execution_count": 208,
   "id": "cbdaeeaf-0d32-41f9-a78f-1b9c4300d41e",
   "metadata": {},
   "outputs": [
    {
     "data": {
      "text/plain": [
       "array([443, 421, 442, 411, 432, 441, 422, 414, 433, 434, 444, 112, 413,\n",
       "       431, 332, 211, 412, 424, 423, 321, 311, 212, 214, 222, 333, 213,\n",
       "       322, 323, 312, 324, 314, 221, 234, 313, 334, 223, 232, 231, 331,\n",
       "       224, 122, 111])"
      ]
     },
     "execution_count": 208,
     "metadata": {},
     "output_type": "execute_result"
    }
   ],
   "source": [
    "rfm_data['RFM_Score'].unique()"
   ]
  },
  {
   "cell_type": "code",
   "execution_count": 211,
   "id": "c7eb04b6-47b0-4df5-8e8e-7c9c2e2bf2fb",
   "metadata": {},
   "outputs": [
    {
     "name": "stdout",
     "output_type": "stream",
     "text": [
      "High Importance Customers:\n",
      "[443, 421, 442, 432, 441, 422, 414, 433, 434, 444, 413, 431, 424, 423]\n",
      "\n",
      "Mid Importance Customers:\n",
      "[411, 332, 412, 321, 311, 333, 322, 323, 312, 324, 314, 313, 334, 331]\n",
      "\n",
      "Low Importance Customers:\n",
      "[112, 211, 212, 214, 222, 213, 221, 234, 223, 232, 231, 224, 122, 111]\n"
     ]
    }
   ],
   "source": [
    "rfm_scores = rfm_data['RFM_Score'].unique()\n",
    "\n",
    "# Sort the RFM scores in descending order\n",
    "sorted_scores = sorted(rfm_scores, reverse=True)\n",
    "\n",
    "# Calculate the number of customers in each segment\n",
    "num_customers = len(rfm_scores)\n",
    "num_high_importance = num_customers // 3\n",
    "num_mid_importance = num_customers // 3\n",
    "\n",
    "# Determine the segment boundaries\n",
    "high_importance_cutoff = sorted_scores[num_high_importance - 1]\n",
    "mid_importance_cutoff = sorted_scores[num_high_importance + num_mid_importance - 1]\n",
    "\n",
    "# # Segment the customers\n",
    "# high_importance_customers = [score for score in rfm_scores if score >= high_importance_cutoff]\n",
    "# mid_importance_customers = [score for score in rfm_scores if mid_importance_cutoff <= score < high_importance_cutoff]\n",
    "# low_importance_customers = [score for score in rfm_scores if score < mid_importance_cutoff]\n",
    "\n",
    "# # Print the customer segments\n",
    "# print(\"High Importance Customers:\")\n",
    "# print(high_importance_customers)\n",
    "# print(\"\\nMid Importance Customers:\")\n",
    "# print(mid_importance_customers)\n",
    "# print(\"\\nLow Importance Customers:\")\n",
    "# print(low_importance_customers)\n",
    "\n",
    "customer_flags = pd.DataFrame({\n",
    "    'rfm_score': rfm_scores,\n",
    "    'importance_flag': ['High' if score >= high_importance_cutoff else\n",
    "                        'Mid' if mid_importance_cutoff <= score < high_importance_cutoff else\n",
    "                        'Low' for score in rfm_scores]\n",
    "})\n",
    "\n",
    "# Merge the original data with the customer importance flags\n",
    "merged_data = pd.merge(data, customer_flags, left_index=True, right_index=True)"
   ]
  },
  {
   "cell_type": "code",
   "execution_count": 202,
   "id": "cc99493a-2ed9-4524-8de1-2395184ef5ec",
   "metadata": {},
   "outputs": [
    {
     "data": {
      "text/plain": [
       "RFM_Score\n",
       "111      1\n",
       "112      2\n",
       "122      1\n",
       "211     50\n",
       "212     33\n",
       "213     28\n",
       "214     37\n",
       "221     10\n",
       "222      7\n",
       "223      4\n",
       "224      6\n",
       "231      1\n",
       "232      2\n",
       "234      4\n",
       "311     74\n",
       "312     30\n",
       "313     36\n",
       "314     25\n",
       "321     32\n",
       "322     27\n",
       "323     19\n",
       "324     22\n",
       "331      4\n",
       "332     14\n",
       "333      7\n",
       "334      9\n",
       "411    641\n",
       "412    339\n",
       "413    364\n",
       "414    378\n",
       "421    555\n",
       "422    500\n",
       "423    422\n",
       "424    436\n",
       "431    368\n",
       "432    556\n",
       "433    525\n",
       "434    539\n",
       "441    300\n",
       "442    524\n",
       "443    630\n",
       "444    580\n",
       "dtype: int64"
      ]
     },
     "execution_count": 202,
     "metadata": {},
     "output_type": "execute_result"
    }
   ],
   "source": [
    "customers_by_recency = rfm_data.groupby('RFM_Score').size()\n",
    "customers_by_recency"
   ]
  },
  {
   "cell_type": "code",
   "execution_count": 159,
   "id": "d30667e3-a2c7-4e75-9730-1a4e0b9a4d4d",
   "metadata": {},
   "outputs": [
    {
     "name": "stdout",
     "output_type": "stream",
     "text": [
      "      Sender_Account_Num  Recency  Frequency  Monetary  RecencyScore  \\\n",
      "3                   1018        2        805  15612.21             4   \n",
      "12                  1122        2        938  30817.08             4   \n",
      "15                  1142        2        906  15215.22             4   \n",
      "25                  1255        2       1048  18674.44             4   \n",
      "28                  1304        2       1194  31522.28             4   \n",
      "...                  ...      ...        ...       ...           ...   \n",
      "8088              100420        2       1059  22132.71             4   \n",
      "8098              100541        2       1104  16269.43             4   \n",
      "8104              100613        2       1265  35662.36             4   \n",
      "8112              100658        2       1046  20487.60             4   \n",
      "8138              100934        2       1111  18579.25             4   \n",
      "\n",
      "      FrequencyScore  MonetaryScore  R  F  M RFM_Score  \n",
      "3                  1              1  4  4  4       444  \n",
      "12                 1              4  4  4  1       441  \n",
      "15                 1              1  4  4  4       444  \n",
      "25                 2              2  4  3  3       433  \n",
      "28                 3              4  4  2  1       421  \n",
      "...              ...            ... .. .. ..       ...  \n",
      "8088               2              3  4  3  2       432  \n",
      "8098               2              1  4  3  4       434  \n",
      "8104               3              4  4  2  1       421  \n",
      "8112               2              2  4  3  3       433  \n",
      "8138               2              2  4  3  3       433  \n",
      "\n",
      "[1066 rows x 11 columns]\n"
     ]
    }
   ],
   "source": [
    "recency_score_4 = rfm_data[rfm_data['Recency'] == 2]\n",
    "\n",
    "# Print the table\n",
    "print(recency_score_4)"
   ]
  },
  {
   "cell_type": "code",
   "execution_count": 214,
   "id": "83c428cd-3363-4523-90ec-4da4bab29967",
   "metadata": {},
   "outputs": [],
   "source": [
    "import pandas as pd\n",
    "\n",
    "\n",
    "# Calculate the maximum number of days in the dataset\n",
    "max_days = (data['Transaction_date'].max() - data['Transaction_date'].min()).days + 1\n",
    "\n",
    "# Calculate the number of days since the last transaction for each customer\n",
    "data['days_since_last_transaction'] = data.groupby('Sender_Account_Num')['Transaction_date'].diff(-1).dt.days.fillna(0)\n",
    "\n",
    "# Calculate the Recency score\n",
    "data['recency_score'] = 5 - (data['days_since_last_transaction'] / max_days)\n",
    "\n",
    "# Round the Recency score to the nearest integer\n",
    "data['recency_score'] = data['recency_score'].round().astype(int)\n",
    "\n",
    "# Clip the Recency score to the range of 1 to 5\n",
    "data['recency_score'] = data['recency_score'].clip(1, 5)"
   ]
  },
  {
   "cell_type": "code",
   "execution_count": 217,
   "id": "fb92d101-e93c-40d7-90bd-3c818e34c7a1",
   "metadata": {},
   "outputs": [
    {
     "data": {
      "text/plain": [
       "array([5])"
      ]
     },
     "execution_count": 217,
     "metadata": {},
     "output_type": "execute_result"
    }
   ],
   "source": [
    "data['recency_score'].unique()"
   ]
  },
  {
   "cell_type": "code",
   "execution_count": null,
   "id": "81b1f448-be8e-458d-94a0-ea1db92e8f17",
   "metadata": {},
   "outputs": [],
   "source": [
    "data['recency_score'] = 5 - (data['days_since_last_transaction'] / max_days)"
   ]
  }
 ],
 "metadata": {
  "kernelspec": {
   "display_name": "Python 3 (ipykernel)",
   "language": "python",
   "name": "python3"
  },
  "language_info": {
   "codemirror_mode": {
    "name": "ipython",
    "version": 3
   },
   "file_extension": ".py",
   "mimetype": "text/x-python",
   "name": "python",
   "nbconvert_exporter": "python",
   "pygments_lexer": "ipython3",
   "version": "3.11.5"
  }
 },
 "nbformat": 4,
 "nbformat_minor": 5
}
